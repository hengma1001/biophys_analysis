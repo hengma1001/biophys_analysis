{
 "cells": [
  {
   "cell_type": "code",
   "execution_count": 1,
   "metadata": {},
   "outputs": [],
   "source": [
    "import os \n",
    "import glob \n",
    "import h5py \n",
    "import numpy as np "
   ]
  },
  {
   "cell_type": "code",
   "execution_count": 2,
   "metadata": {},
   "outputs": [],
   "source": [
    "import MDAnalysis as mda"
   ]
  },
  {
   "cell_type": "code",
   "execution_count": 3,
   "metadata": {},
   "outputs": [],
   "source": [
    "from MDAnalysis.analysis.rms import RMSD\n",
    "from MDAnalysis.analysis import distances"
   ]
  },
  {
   "cell_type": "code",
   "execution_count": 4,
   "metadata": {},
   "outputs": [
    {
     "name": "stderr",
     "output_type": "stream",
     "text": [
      "Using TensorFlow backend.\n"
     ]
    }
   ],
   "source": [
    "from utils import cm_to_cvae "
   ]
  },
  {
   "cell_type": "code",
   "execution_count": 5,
   "metadata": {},
   "outputs": [],
   "source": [
    "omm_list = sorted(glob.glob('../MD_exps/fs-pep/omm_runs_*'))[:120*5]"
   ]
  },
  {
   "cell_type": "markdown",
   "metadata": {},
   "source": [
    "# RMSD"
   ]
  },
  {
   "cell_type": "code",
   "execution_count": 6,
   "metadata": {},
   "outputs": [],
   "source": [
    "ref_pdb_file = '../MD_exps/fs-pep/pdb/fs-peptide.pdb'"
   ]
  },
  {
   "cell_type": "code",
   "execution_count": 7,
   "metadata": {},
   "outputs": [],
   "source": [
    "RMSD_all = []\n",
    "for omm in omm_list: \n",
    "    dcd_file = os.path.join(omm, 'output.dcd')\n",
    "    mda_traj = mda.Universe(ref_pdb_file, dcd_file)\n",
    "    ref_traj = mda.Universe(ref_pdb_file)\n",
    "    R = RMSD(mda_traj, ref_traj, select='protein and name CA')\n",
    "    R.run() \n",
    "    RMSD_all.append(R.rmsd[:,2])"
   ]
  },
  {
   "cell_type": "code",
   "execution_count": 8,
   "metadata": {},
   "outputs": [],
   "source": [
    "RMSD_all = np.hstack(RMSD_all)"
   ]
  },
  {
   "cell_type": "markdown",
   "metadata": {},
   "source": [
    "# Embed"
   ]
  },
  {
   "cell_type": "raw",
   "metadata": {},
   "source": [
    "model_weight = '../CVAE_exps/cvae_runs_12_1570644433/cvae_weight.h5'"
   ]
  },
  {
   "cell_type": "code",
   "execution_count": 9,
   "metadata": {},
   "outputs": [],
   "source": [
    "model_weight = '../CVAE_exps/cvae_runs_03_1570644424/cvae_weight.h5'"
   ]
  },
  {
   "cell_type": "code",
   "execution_count": 10,
   "metadata": {},
   "outputs": [],
   "source": [
    "cm_data_lists = [] \n",
    "num_frame = 0 \n",
    "for omm in omm_list: \n",
    "    cm_file = os.path.join(omm, 'output_cm.h5')\n",
    "    cm_h5 = h5py.File(cm_file, 'r', libver='latest', swmr=True) \n",
    "#     print cm_h5[u'contact_maps']\n",
    "    cm_data_lists.append(cm_h5[u'contact_maps'].value) \n",
    "    num_frame += cm_h5[u'contact_maps'].shape[1]\n",
    "    cm_h5.close() "
   ]
  },
  {
   "cell_type": "code",
   "execution_count": 11,
   "metadata": {},
   "outputs": [
    {
     "data": {
      "text/plain": [
       "'2.8.0'"
      ]
     },
     "execution_count": 11,
     "metadata": {},
     "output_type": "execute_result"
    }
   ],
   "source": [
    "h5py.__version__"
   ]
  },
  {
   "cell_type": "code",
   "execution_count": 12,
   "metadata": {},
   "outputs": [
    {
     "data": {
      "text/plain": [
       "16800.0"
      ]
     },
     "execution_count": 12,
     "metadata": {},
     "output_type": "execute_result"
    }
   ],
   "source": [
    "num_frame * 0.05"
   ]
  },
  {
   "cell_type": "code",
   "execution_count": 13,
   "metadata": {},
   "outputs": [],
   "source": [
    "cvae_input = cm_to_cvae(cm_data_lists)"
   ]
  },
  {
   "cell_type": "code",
   "execution_count": 14,
   "metadata": {},
   "outputs": [
    {
     "data": {
      "text/plain": [
       "(336000, 22, 22, 1)"
      ]
     },
     "execution_count": 14,
     "metadata": {},
     "output_type": "execute_result"
    }
   ],
   "source": [
    "cvae_input.shape"
   ]
  },
  {
   "cell_type": "code",
   "execution_count": 15,
   "metadata": {},
   "outputs": [
    {
     "name": "stdout",
     "output_type": "stream",
     "text": [
      "WARNING:tensorflow:From /Users/hm/anaconda2/lib/python2.7/site-packages/tensorflow/python/framework/op_def_library.py:263: colocate_with (from tensorflow.python.framework.ops) is deprecated and will be removed in a future version.\n",
      "Instructions for updating:\n",
      "Colocations handled automatically by placer.\n",
      "__________________________________________________________________________________________________\n",
      "Layer (type)                    Output Shape         Param #     Connected to                     \n",
      "==================================================================================================\n",
      "input_1 (InputLayer)            (None, 22, 22, 1)    0                                            \n",
      "__________________________________________________________________________________________________\n",
      "conv2d_1 (Conv2D)               (None, 22, 22, 64)   640         input_1[0][0]                    \n",
      "__________________________________________________________________________________________________\n",
      "conv2d_2 (Conv2D)               (None, 11, 11, 64)   36928       conv2d_1[0][0]                   \n",
      "__________________________________________________________________________________________________\n",
      "conv2d_3 (Conv2D)               (None, 11, 11, 64)   36928       conv2d_2[0][0]                   \n",
      "__________________________________________________________________________________________________\n",
      "conv2d_4 (Conv2D)               (None, 11, 11, 64)   36928       conv2d_3[0][0]                   \n",
      "__________________________________________________________________________________________________\n",
      "flatten_1 (Flatten)             (None, 7744)         0           conv2d_4[0][0]                   \n",
      "__________________________________________________________________________________________________\n",
      "dropout_1 (Dropout)             (None, 7744)         0           flatten_1[0][0]                  \n",
      "__________________________________________________________________________________________________\n",
      "dense_1 (Dense)                 (None, 128)          991360      dropout_1[0][0]                  \n",
      "__________________________________________________________________________________________________\n",
      "dense_2 (Dense)                 (None, 3)            387         dense_1[0][0]                    \n",
      "__________________________________________________________________________________________________\n",
      "dense_3 (Dense)                 (None, 3)            387         dense_1[0][0]                    \n",
      "__________________________________________________________________________________________________\n",
      "lambda_1 (Lambda)               (None, 3)            0           dense_2[0][0]                    \n",
      "                                                                 dense_3[0][0]                    \n",
      "__________________________________________________________________________________________________\n",
      "dense_4 (Dense)                 (None, 128)          512         lambda_1[0][0]                   \n",
      "__________________________________________________________________________________________________\n",
      "dense_5 (Dense)                 (None, 7744)         998976      dense_4[0][0]                    \n",
      "__________________________________________________________________________________________________\n",
      "reshape_1 (Reshape)             (None, 11, 11, 64)   0           dense_5[0][0]                    \n",
      "__________________________________________________________________________________________________\n",
      "conv2d_transpose_1 (Conv2DTrans (None, 11, 11, 64)   36928       reshape_1[0][0]                  \n",
      "__________________________________________________________________________________________________\n",
      "conv2d_transpose_2 (Conv2DTrans (None, 11, 11, 64)   36928       conv2d_transpose_1[0][0]         \n",
      "__________________________________________________________________________________________________\n",
      "conv2d_transpose_3 (Conv2DTrans (None, 22, 22, 64)   36928       conv2d_transpose_2[0][0]         \n",
      "__________________________________________________________________________________________________\n",
      "conv2d_transpose_4 (Conv2DTrans (None, 22, 22, 1)    577         conv2d_transpose_3[0][0]         \n",
      "==================================================================================================\n",
      "Total params: 2,214,407\n",
      "Trainable params: 2,214,407\n",
      "Non-trainable params: 0\n",
      "__________________________________________________________________________________________________\n"
     ]
    }
   ],
   "source": [
    "from utils import predict_from_cvae\n",
    "cm_predict = predict_from_cvae(model_weight, cvae_input, hyper_dim=3)"
   ]
  },
  {
   "cell_type": "code",
   "execution_count": 16,
   "metadata": {},
   "outputs": [
    {
     "data": {
      "text/plain": [
       "(336000, 3)"
      ]
     },
     "execution_count": 16,
     "metadata": {},
     "output_type": "execute_result"
    }
   ],
   "source": [
    "cm_predict.shape"
   ]
  },
  {
   "cell_type": "markdown",
   "metadata": {},
   "source": [
    "# outliers "
   ]
  },
  {
   "cell_type": "code",
   "execution_count": 17,
   "metadata": {},
   "outputs": [
    {
     "name": "stdout",
     "output_type": "stream",
     "text": [
      "dimension = 3, eps = 0.20, number of outlier found: 132\n"
     ]
    }
   ],
   "source": [
    "from utils import outliers_from_latent\n",
    "eps = 0.2 \n",
    "\n",
    "while True:\n",
    "    outliers = np.squeeze(outliers_from_latent(cm_predict, eps=eps))\n",
    "    n_outlier = len(outliers)\n",
    "    print('dimension = {0}, eps = {1:.2f}, number of outlier found: {2}'.format(\n",
    "        3, eps, n_outlier))\n",
    "    if n_outlier > 150:\n",
    "        eps = eps + 0.05\n",
    "    else:\n",
    "        outlier_list = outliers \n",
    "        break"
   ]
  },
  {
   "cell_type": "code",
   "execution_count": 18,
   "metadata": {},
   "outputs": [
    {
     "data": {
      "text/plain": [
       "array([  3583,   3605,   3606,   3633,   3635,   3637,   3710,  10303,\n",
       "        13129,  24887,  25745,  36742,  42125,  42126,  53895,  53896,\n",
       "        53897,  53898,  53899,  60856,  71568,  71769,  77172,  77267,\n",
       "        82542,  87814,  92188,  92725,  93109, 103019, 103025, 103026,\n",
       "       103034, 103038, 103044, 103046, 103047, 103049, 103051, 103063,\n",
       "       103064, 103902, 103909, 115520, 115688, 121448, 121454, 123601,\n",
       "       123631, 123633, 125393, 135268, 139196, 145311, 145316, 145529,\n",
       "       147840, 151131, 151212, 151213, 151217, 151218, 151220, 151224,\n",
       "       151225, 151226, 151227, 151228, 151229, 151363, 151402, 151404,\n",
       "       151407, 151564, 151889, 151890, 151892, 151893, 151894, 151898,\n",
       "       151901, 151907, 151919, 151924, 151925, 151927, 151942, 165602,\n",
       "       167005, 167012, 167013, 168799, 180855, 181271, 181301, 182189,\n",
       "       182196, 187801, 187836, 216310, 219645, 228891, 234848, 234849,\n",
       "       234899, 235471, 236584, 236585, 272810, 272844, 272846, 272847,\n",
       "       272850, 272853, 272855, 272856, 272865, 277184, 278011, 278016,\n",
       "       278599, 291333, 297571, 301369, 301373, 303456, 315577, 325272,\n",
       "       325292, 325305, 325326, 325328])"
      ]
     },
     "execution_count": 18,
     "metadata": {},
     "output_type": "execute_result"
    }
   ],
   "source": [
    "outlier_list"
   ]
  },
  {
   "cell_type": "code",
   "execution_count": 19,
   "metadata": {},
   "outputs": [],
   "source": [
    "h5_save = h5py.File('./latent3d_fsp.h5', 'w') "
   ]
  },
  {
   "cell_type": "code",
   "execution_count": 20,
   "metadata": {},
   "outputs": [
    {
     "data": {
      "text/plain": [
       "<HDF5 dataset \"outliers\": shape (132,), type \"<i8\">"
      ]
     },
     "execution_count": 20,
     "metadata": {},
     "output_type": "execute_result"
    }
   ],
   "source": [
    "h5_save.create_dataset('cm_predict', data=cm_predict)  \n",
    "h5_save.create_dataset('RMSD', data=RMSD_all) \n",
    "h5_save.create_dataset('outliers', data=outlier_list)  "
   ]
  },
  {
   "cell_type": "code",
   "execution_count": 21,
   "metadata": {},
   "outputs": [],
   "source": [
    "h5_save.close() "
   ]
  },
  {
   "cell_type": "code",
   "execution_count": 22,
   "metadata": {},
   "outputs": [],
   "source": [
    "h5_save = h5py.File('./latent3d_fsp.h5', 'r') "
   ]
  },
  {
   "cell_type": "code",
   "execution_count": 23,
   "metadata": {},
   "outputs": [
    {
     "data": {
      "text/plain": [
       "[(u'RMSD', <HDF5 dataset \"RMSD\": shape (336000,), type \"<f8\">),\n",
       " (u'cm_predict', <HDF5 dataset \"cm_predict\": shape (336000, 3), type \"<f4\">),\n",
       " (u'outliers', <HDF5 dataset \"outliers\": shape (132,), type \"<i8\">)]"
      ]
     },
     "execution_count": 23,
     "metadata": {},
     "output_type": "execute_result"
    }
   ],
   "source": [
    "h5_save.items()"
   ]
  },
  {
   "cell_type": "code",
   "execution_count": null,
   "metadata": {},
   "outputs": [],
   "source": []
  }
 ],
 "metadata": {
  "kernelspec": {
   "display_name": "Python 2",
   "language": "python",
   "name": "python2"
  },
  "language_info": {
   "codemirror_mode": {
    "name": "ipython",
    "version": 2
   },
   "file_extension": ".py",
   "mimetype": "text/x-python",
   "name": "python",
   "nbconvert_exporter": "python",
   "pygments_lexer": "ipython2",
   "version": "2.7.16"
  }
 },
 "nbformat": 4,
 "nbformat_minor": 2
}
