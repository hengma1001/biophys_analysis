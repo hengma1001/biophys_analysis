{
 "cells": [
  {
   "cell_type": "code",
   "execution_count": 1,
   "metadata": {},
   "outputs": [],
   "source": [
    "import os \n",
    "\n",
    "import glob \n",
    "import h5py \n",
    "\n",
    "import numpy as np "
   ]
  },
  {
   "cell_type": "code",
   "execution_count": 2,
   "metadata": {},
   "outputs": [],
   "source": [
    "import MDAnalysis as mda"
   ]
  },
  {
   "cell_type": "code",
   "execution_count": 3,
   "metadata": {},
   "outputs": [],
   "source": [
    "from MDAnalysis.analysis.rms import RMSD"
   ]
  },
  {
   "cell_type": "code",
   "execution_count": 4,
   "metadata": {},
   "outputs": [
    {
     "name": "stderr",
     "output_type": "stream",
     "text": [
      "Using TensorFlow backend.\n"
     ]
    }
   ],
   "source": [
    "from utils import cm_to_cvae "
   ]
  },
  {
   "cell_type": "code",
   "execution_count": 8,
   "metadata": {},
   "outputs": [],
   "source": [
    "omm_list = sorted(glob.glob('../vhp_exp.3rd/omm_runs_*'))"
   ]
  },
  {
   "cell_type": "markdown",
   "metadata": {},
   "source": [
    "# RMSD"
   ]
  },
  {
   "cell_type": "code",
   "execution_count": 15,
   "metadata": {},
   "outputs": [],
   "source": [
    "ref_pdb_file = '../vhp_exp.3rd/pdb/vhp1ww.pdb' \n",
    "start_point = '../vhp_exp.3rd/pdb/vhp1ww_solv.gro'"
   ]
  },
  {
   "cell_type": "code",
   "execution_count": 17,
   "metadata": {},
   "outputs": [],
   "source": [
    "RMSD_all = []\n",
    "for omm in omm_list: \n",
    "    dcd_file = os.path.join(omm, 'output.dcd')\n",
    "    mda_traj = mda.Universe(start_point, dcd_file)\n",
    "    ref_traj = mda.Universe(ref_pdb_file)\n",
    "    R = RMSD(mda_traj, ref_traj, select='protein and name CA')\n",
    "    R.run() \n",
    "    RMSD_all.append(R.rmsd[:,2])"
   ]
  },
  {
   "cell_type": "code",
   "execution_count": 19,
   "metadata": {},
   "outputs": [],
   "source": [
    "RMSD_all = np.hstack(RMSD_all)"
   ]
  },
  {
   "cell_type": "markdown",
   "metadata": {},
   "source": [
    "# Embed"
   ]
  },
  {
   "cell_type": "code",
   "execution_count": 22,
   "metadata": {},
   "outputs": [],
   "source": [
    "model_weight = '../vhp_exp.3rd/CVAE_exps/cvae_weight.h5'"
   ]
  },
  {
   "cell_type": "code",
   "execution_count": 43,
   "metadata": {},
   "outputs": [],
   "source": [
    "cm_data_lists = [] \n",
    "num_frame = 0 \n",
    "for omm in omm_list: \n",
    "    cm_file = os.path.join(omm, 'output_cm.h5')\n",
    "    cm_h5 = h5py.File(cm_file, 'r') \n",
    "#     print cm_h5[u'contact_maps']\n",
    "    cm_data_lists.append(cm_h5[u'contact_maps'].value) \n",
    "    num_frame += cm_h5[u'contact_maps'].shape[1]\n",
    "    cm_h5.close() "
   ]
  },
  {
   "cell_type": "code",
   "execution_count": 44,
   "metadata": {},
   "outputs": [
    {
     "data": {
      "text/plain": [
       "900.0"
      ]
     },
     "execution_count": 44,
     "metadata": {},
     "output_type": "execute_result"
    }
   ],
   "source": [
    "num_frame * 0.01"
   ]
  },
  {
   "cell_type": "code",
   "execution_count": 25,
   "metadata": {},
   "outputs": [],
   "source": [
    "cvae_input = cm_to_cvae(cm_data_lists)"
   ]
  },
  {
   "cell_type": "code",
   "execution_count": 26,
   "metadata": {},
   "outputs": [
    {
     "data": {
      "text/plain": [
       "(90000, 36, 36, 1)"
      ]
     },
     "execution_count": 26,
     "metadata": {},
     "output_type": "execute_result"
    }
   ],
   "source": [
    "print cvae_input.shape"
   ]
  },
  {
   "cell_type": "code",
   "execution_count": 27,
   "metadata": {},
   "outputs": [
    {
     "name": "stdout",
     "output_type": "stream",
     "text": [
      "WARNING:tensorflow:From /Users/hm/anaconda2/lib/python2.7/site-packages/tensorflow/python/framework/op_def_library.py:263: colocate_with (from tensorflow.python.framework.ops) is deprecated and will be removed in a future version.\n",
      "Instructions for updating:\n",
      "Colocations handled automatically by placer.\n",
      "__________________________________________________________________________________________________\n",
      "Layer (type)                    Output Shape         Param #     Connected to                     \n",
      "==================================================================================================\n",
      "input_1 (InputLayer)            (None, 36, 36, 1)    0                                            \n",
      "__________________________________________________________________________________________________\n",
      "conv2d_1 (Conv2D)               (None, 36, 36, 64)   640         input_1[0][0]                    \n",
      "__________________________________________________________________________________________________\n",
      "conv2d_2 (Conv2D)               (None, 18, 18, 64)   36928       conv2d_1[0][0]                   \n",
      "__________________________________________________________________________________________________\n",
      "conv2d_3 (Conv2D)               (None, 18, 18, 64)   36928       conv2d_2[0][0]                   \n",
      "__________________________________________________________________________________________________\n",
      "conv2d_4 (Conv2D)               (None, 18, 18, 64)   36928       conv2d_3[0][0]                   \n",
      "__________________________________________________________________________________________________\n",
      "flatten_1 (Flatten)             (None, 20736)        0           conv2d_4[0][0]                   \n",
      "__________________________________________________________________________________________________\n",
      "dropout_1 (Dropout)             (None, 20736)        0           flatten_1[0][0]                  \n",
      "__________________________________________________________________________________________________\n",
      "dense_1 (Dense)                 (None, 128)          2654336     dropout_1[0][0]                  \n",
      "__________________________________________________________________________________________________\n",
      "dense_2 (Dense)                 (None, 3)            387         dense_1[0][0]                    \n",
      "__________________________________________________________________________________________________\n",
      "dense_3 (Dense)                 (None, 3)            387         dense_1[0][0]                    \n",
      "__________________________________________________________________________________________________\n",
      "lambda_1 (Lambda)               (None, 3)            0           dense_2[0][0]                    \n",
      "                                                                 dense_3[0][0]                    \n",
      "__________________________________________________________________________________________________\n",
      "dense_4 (Dense)                 (None, 128)          512         lambda_1[0][0]                   \n",
      "__________________________________________________________________________________________________\n",
      "dense_5 (Dense)                 (None, 20736)        2674944     dense_4[0][0]                    \n",
      "__________________________________________________________________________________________________\n",
      "reshape_1 (Reshape)             (None, 18, 18, 64)   0           dense_5[0][0]                    \n",
      "__________________________________________________________________________________________________\n",
      "conv2d_transpose_1 (Conv2DTrans (None, 18, 18, 64)   36928       reshape_1[0][0]                  \n",
      "__________________________________________________________________________________________________\n",
      "conv2d_transpose_2 (Conv2DTrans (None, 18, 18, 64)   36928       conv2d_transpose_1[0][0]         \n",
      "__________________________________________________________________________________________________\n",
      "conv2d_transpose_3 (Conv2DTrans (None, 36, 36, 64)   36928       conv2d_transpose_2[0][0]         \n",
      "__________________________________________________________________________________________________\n",
      "conv2d_transpose_4 (Conv2DTrans (None, 36, 36, 1)    577         conv2d_transpose_3[0][0]         \n",
      "==================================================================================================\n",
      "Total params: 5,553,351\n",
      "Trainable params: 5,553,351\n",
      "Non-trainable params: 0\n",
      "__________________________________________________________________________________________________\n"
     ]
    }
   ],
   "source": [
    "from utils import predict_from_cvae\n",
    "cm_predict = predict_from_cvae(model_weight, cvae_input, hyper_dim=3)"
   ]
  },
  {
   "cell_type": "code",
   "execution_count": 28,
   "metadata": {},
   "outputs": [
    {
     "data": {
      "text/plain": [
       "(90000, 3)"
      ]
     },
     "execution_count": 28,
     "metadata": {},
     "output_type": "execute_result"
    }
   ],
   "source": [
    "cm_predict.shape"
   ]
  },
  {
   "cell_type": "markdown",
   "metadata": {},
   "source": [
    "# outliers "
   ]
  },
  {
   "cell_type": "code",
   "execution_count": 30,
   "metadata": {},
   "outputs": [
    {
     "name": "stdout",
     "output_type": "stream",
     "text": [
      "dimension = 3, eps = 0.20, number of outlier found: 995\n",
      "dimension = 3, eps = 0.25, number of outlier found: 415\n",
      "dimension = 3, eps = 0.30, number of outlier found: 182\n"
     ]
    }
   ],
   "source": [
    "from utils import outliers_from_latent\n",
    "eps = 0.2 \n",
    "\n",
    "while True:\n",
    "    outliers = np.squeeze(outliers_from_latent(cm_predict, eps=eps))\n",
    "    n_outlier = len(outliers)\n",
    "    print('dimension = {0}, eps = {1:.2f}, number of outlier found: {2}'.format(\n",
    "        3, eps, n_outlier))\n",
    "    if n_outlier > 200:\n",
    "        eps = eps + 0.05\n",
    "    else:\n",
    "        outlier_list = outliers \n",
    "        break"
   ]
  },
  {
   "cell_type": "code",
   "execution_count": 31,
   "metadata": {},
   "outputs": [
    {
     "data": {
      "text/plain": [
       "array([ 1615,  1693,  1695,  4077,  4112,  4113,  4377,  8227,  8323,\n",
       "        8353,  8355,  8448,  8449,  8451,  8452,  8466,  8919,  8924,\n",
       "        8926,  8945,  9564,  9569,  9786,  9789,  9790,  9791,  9909,\n",
       "        9911,  9919,  9971,  9987, 11144, 14314, 14402, 15153, 16049,\n",
       "       18024, 18027, 18028, 18032, 21772, 21773, 21775, 21776, 21785,\n",
       "       23060, 23068, 23090, 23094, 23095, 23096, 23103, 23123, 23135,\n",
       "       23136, 23139, 23140, 23141, 23142, 23143, 23144, 23149, 23178,\n",
       "       23192, 23193, 25896, 27050, 27051, 27052, 27053, 27054, 27055,\n",
       "       27056, 27057, 27062, 27063, 27068, 27138, 27207, 28051, 28062,\n",
       "       28068, 28069, 28071, 28073, 28074, 28088, 28092, 28127, 28129,\n",
       "       28130, 28131, 28133, 28134, 28135, 28136, 28152, 28180, 28181,\n",
       "       28199, 28203, 28206, 28209, 28210, 28214, 28217, 28218, 28222,\n",
       "       28225, 28230, 28233, 28235, 28244, 28245, 28246, 28249, 31250,\n",
       "       31264, 31349, 31384, 31387, 31389, 31403, 31488, 31489, 33049,\n",
       "       33050, 34865, 34866, 34867, 34871, 34875, 35277, 35372, 35580,\n",
       "       35585, 35588, 35590, 36147, 39410, 39422, 39578, 39652, 42173,\n",
       "       42174, 42175, 42179, 42353, 42354, 42356, 42358, 42385, 42391,\n",
       "       42396, 42402, 42403, 42405, 42406, 42408, 42409, 42411, 42417,\n",
       "       42421, 42426, 42430, 42432, 42437, 45178, 49222, 52011, 56242,\n",
       "       56256, 60662, 64641, 64869, 68777, 80952, 80967, 81291, 81353,\n",
       "       82015, 88882])"
      ]
     },
     "execution_count": 31,
     "metadata": {},
     "output_type": "execute_result"
    }
   ],
   "source": [
    "outlier_list"
   ]
  },
  {
   "cell_type": "code",
   "execution_count": 32,
   "metadata": {},
   "outputs": [],
   "source": [
    "h5_save = h5py.File('./latent3d_vhp.h5', 'w') "
   ]
  },
  {
   "cell_type": "code",
   "execution_count": 33,
   "metadata": {},
   "outputs": [
    {
     "data": {
      "text/plain": [
       "<HDF5 dataset \"outliers\": shape (182,), type \"<i8\">"
      ]
     },
     "execution_count": 33,
     "metadata": {},
     "output_type": "execute_result"
    }
   ],
   "source": [
    "h5_save.create_dataset('cm_predict', data=cm_predict)  \n",
    "h5_save.create_dataset('RMSD', data=RMSD_all) \n",
    "h5_save.create_dataset('outliers', data=outlier_list)  "
   ]
  },
  {
   "cell_type": "code",
   "execution_count": 34,
   "metadata": {},
   "outputs": [],
   "source": [
    "h5_save.close() "
   ]
  },
  {
   "cell_type": "code",
   "execution_count": 37,
   "metadata": {},
   "outputs": [],
   "source": [
    "h5_save = h5py.File('./latent3d_vhp.h5', 'r') "
   ]
  },
  {
   "cell_type": "code",
   "execution_count": 38,
   "metadata": {},
   "outputs": [
    {
     "data": {
      "text/plain": [
       "[(u'RMSD', <HDF5 dataset \"RMSD\": shape (90000,), type \"<f8\">),\n",
       " (u'cm_predict', <HDF5 dataset \"cm_predict\": shape (90000, 3), type \"<f4\">),\n",
       " (u'outliers', <HDF5 dataset \"outliers\": shape (182,), type \"<i8\">)]"
      ]
     },
     "execution_count": 38,
     "metadata": {},
     "output_type": "execute_result"
    }
   ],
   "source": [
    "h5_save.items()"
   ]
  },
  {
   "cell_type": "code",
   "execution_count": null,
   "metadata": {},
   "outputs": [],
   "source": []
  }
 ],
 "metadata": {
  "kernelspec": {
   "display_name": "Python 2",
   "language": "python",
   "name": "python2"
  },
  "language_info": {
   "codemirror_mode": {
    "name": "ipython",
    "version": 2
   },
   "file_extension": ".py",
   "mimetype": "text/x-python",
   "name": "python",
   "nbconvert_exporter": "python",
   "pygments_lexer": "ipython2",
   "version": "2.7.16"
  }
 },
 "nbformat": 4,
 "nbformat_minor": 2
}
