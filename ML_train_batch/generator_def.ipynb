{
 "cells": [
  {
   "cell_type": "code",
   "execution_count": 1,
   "metadata": {},
   "outputs": [],
   "source": [
    "import os\n",
    "import sys \n",
    "import glob \n",
    "\n",
    "\n",
    "import numpy as np \n",
    "import matplotlib.pyplot as plt "
   ]
  },
  {
   "cell_type": "code",
   "execution_count": 2,
   "metadata": {},
   "outputs": [
    {
     "name": "stderr",
     "output_type": "stream",
     "text": [
      "Using TensorFlow backend.\n"
     ]
    }
   ],
   "source": [
    "import keras as K "
   ]
  },
  {
   "cell_type": "code",
   "execution_count": 3,
   "metadata": {},
   "outputs": [],
   "source": [
    "sys.path.append('../py_modules/') \n",
    "from utils import read_h5py_file, cm_to_cvae_trim"
   ]
  },
  {
   "cell_type": "code",
   "execution_count": 4,
   "metadata": {},
   "outputs": [],
   "source": [
    "cm_files = sorted(glob.glob('../../*_traj/contacts/contacts-*.h5')) "
   ]
  },
  {
   "cell_type": "markdown",
   "metadata": {},
   "source": [
    "The residue list is as follows:\n",
    "\n",
    "`42-58\n",
    "72-74\n",
    "79-85\n",
    "92-100\n",
    "104-114\n",
    "117-128`"
   ]
  },
  {
   "cell_type": "raw",
   "metadata": {},
   "source": [
    "def trim_cm(contact_map, resnum_intersted): \n",
    "    for i in np.arange(contact_map.shape[0]): \n",
    "        if i not in resnum_intersted: \n",
    "            contact_map[i] = 10 \n",
    "            contact_map[:,i] = 10 \n",
    "    contact_map = contact_map[contact_map != 10] \n",
    "    assert len(contact_map) == len(resnum_intersted) ** 2\n",
    "    return contact_map.reshape(len(resnum_intersted), len(resnum_intersted))"
   ]
  },
  {
   "cell_type": "code",
   "execution_count": 5,
   "metadata": {},
   "outputs": [],
   "source": [
    "AA_list = np.hstack([np.arange(41, 58), np.arange(71,74), np.arange(78,85), \n",
    "          np.arange(91,100), np.arange(103,114), np.arange(116,128)])"
   ]
  },
  {
   "cell_type": "code",
   "execution_count": 17,
   "metadata": {},
   "outputs": [],
   "source": [
    "def cm_generator(cm_files, batch_size, resnum, shuffle=True): \n",
    "    samples_per_epoch = len(cm_files) \n",
    "    number_of_batches = samples_per_epoch/batch_size \n",
    "    counter = 0 \n",
    "    if shuffle: \n",
    "        np.random.shuffle(cm_files)\n",
    "    \n",
    "    while 1: \n",
    "        cm_file_list = cm_files[batch_size*counter:batch_size*(counter+1)] \n",
    "        cm_data_lists = [read_h5py_file(cm_file) for cm_file in cm_file_list]\n",
    "        cvae_input = cm_to_cvae_trim(cm_data_lists, resnum) \n",
    "\n",
    "        counter += 1 \n",
    "        yield cvae_input, cvae_input \n",
    "        \n",
    "        # Reset counter to next epoch \n",
    "#         if counter >= number_of_batches: \n",
    "#             counter = 0 "
   ]
  },
  {
   "cell_type": "code",
   "execution_count": 13,
   "metadata": {},
   "outputs": [],
   "source": [
    "cm_gen = cm_generator(cm_files, 3, AA_list) \n",
    "cm_test = next(cm_gen)"
   ]
  },
  {
   "cell_type": "code",
   "execution_count": 14,
   "metadata": {},
   "outputs": [
    {
     "name": "stdout",
     "output_type": "stream",
     "text": [
      "(60, 60, 1)\n"
     ]
    }
   ],
   "source": [
    "for i in cm_test: \n",
    "    print(i.shape)  \n",
    "    break "
   ]
  },
  {
   "cell_type": "code",
   "execution_count": 18,
   "metadata": {},
   "outputs": [
    {
     "data": {
      "text/plain": [
       "<matplotlib.colorbar.Colorbar at 0x7fbe7693b8d0>"
      ]
     },
     "execution_count": 18,
     "metadata": {},
     "output_type": "execute_result"
    },
    {
     "data": {
      "image/png": "[encoded data removed]",
      "text/plain": [
       "<Figure size 432x288 with 2 Axes>"
      ]
     },
     "metadata": {
      "needs_background": "light"
     },
     "output_type": "display_data"
    }
   ],
   "source": [
    "plt.imshow(i.reshape(i.shape[:2])) \n",
    "plt.colorbar()"
   ]
  },
  {
   "cell_type": "code",
   "execution_count": 77,
   "metadata": {},
   "outputs": [
    {
     "data": {
      "text/plain": [
       "<matplotlib.colorbar.Colorbar at 0x7f80355ffe10>"
      ]
     },
     "execution_count": 77,
     "metadata": {},
     "output_type": "execute_result"
    },
    {
     "data": {
      "image/png": "[encoded data removed]",
      "text/plain": [
       "<Figure size 432x288 with 2 Axes>"
      ]
     },
     "metadata": {
      "needs_background": "light"
     },
     "output_type": "display_data"
    }
   ],
   "source": [
    "plt.imshow(tcm.reshape(len(AA_list), len(AA_list))) \n",
    "plt.colorbar()"
   ]
  },
  {
   "cell_type": "code",
   "execution_count": 65,
   "metadata": {},
   "outputs": [
    {
     "data": {
      "text/plain": [
       "<matplotlib.colorbar.Colorbar at 0x7f803682a950>"
      ]
     },
     "execution_count": 65,
     "metadata": {},
     "output_type": "execute_result"
    },
    {
     "data": {
      "image/png": "[encoded data removed]",
      "text/plain": [
       "<Figure size 432x288 with 2 Axes>"
      ]
     },
     "metadata": {
      "needs_background": "light"
     },
     "output_type": "display_data"
    }
   ],
   "source": [
    "plt.imshow(i.reshape(i.shape[:2])) \n",
    "plt.colorbar()"
   ]
  },
  {
   "cell_type": "code",
   "execution_count": null,
   "metadata": {},
   "outputs": [],
   "source": []
  }
 ],
 "metadata": {
  "kernelspec": {
   "display_name": "Python 3",
   "language": "python",
   "name": "python3"
  },
  "language_info": {
   "codemirror_mode": {
    "name": "ipython",
    "version": 3
   },
   "file_extension": ".py",
   "mimetype": "text/x-python",
   "name": "python",
   "nbconvert_exporter": "python",
   "pygments_lexer": "ipython3",
   "version": "3.7.5"
  }
 },
 "nbformat": 4,
 "nbformat_minor": 4
}
