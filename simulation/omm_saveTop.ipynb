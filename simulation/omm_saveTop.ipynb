{
 "cells": [
  {
   "cell_type": "code",
   "execution_count": 1,
   "id": "d66be0ea",
   "metadata": {},
   "outputs": [
    {
     "name": "stderr",
     "output_type": "stream",
     "text": [
      "Warning: importing 'simtk.openmm' is deprecated.  Import 'openmm' instead.\n"
     ]
    }
   ],
   "source": [
    "import os\n",
    "import sys\n",
    "import numpy as np\n",
    "import parmed as pmd\n",
    "\n",
    "from openmm import * \n",
    "from openmm.app import * \n",
    "from openmm.unit import * \n",
    "\n",
    "from sys import stdout"
   ]
  },
  {
   "cell_type": "code",
   "execution_count": 2,
   "id": "61b0937b",
   "metadata": {},
   "outputs": [],
   "source": [
    "os.environ[\"CUDA_DEVICE_ORDER\"]=\"PCI_BUS_ID\"   # see issue #152\n",
    "os.environ[\"CUDA_VISIBLE_DEVICES\"]=\"7\""
   ]
  },
  {
   "cell_type": "code",
   "execution_count": 3,
   "id": "d6742493",
   "metadata": {},
   "outputs": [],
   "source": [
    "pdb = PDBFile('../../1ubq.pdb')"
   ]
  },
  {
   "cell_type": "code",
   "execution_count": 4,
   "id": "4cbca78c",
   "metadata": {},
   "outputs": [],
   "source": [
    "# forcefield = ForceField('amoeba2018.xml')\n",
    "forcefield = ForceField('amber14-all.xml', 'amber14/tip3pfb.xml')"
   ]
  },
  {
   "cell_type": "code",
   "execution_count": 5,
   "id": "52a00d78",
   "metadata": {},
   "outputs": [],
   "source": [
    "modeller = Modeller(pdb.topology, pdb.positions)"
   ]
  },
  {
   "cell_type": "code",
   "execution_count": 6,
   "id": "6474ed18",
   "metadata": {},
   "outputs": [],
   "source": [
    "_ = modeller.addHydrogens(forcefield)"
   ]
  },
  {
   "cell_type": "code",
   "execution_count": 7,
   "id": "af5b3e94",
   "metadata": {},
   "outputs": [],
   "source": [
    "modeller.addSolvent(forcefield, boxSize=Vec3(6, 6, 6)*nanometers, ionicStrength=0.1*molar, positiveIon='K+')"
   ]
  },
  {
   "cell_type": "code",
   "execution_count": 8,
   "id": "7cc7681f",
   "metadata": {},
   "outputs": [
    {
     "name": "stdout",
     "output_type": "stream",
     "text": [
      "Saving...\n",
      "Done\n"
     ]
    }
   ],
   "source": [
    "system = forcefield.createSystem(modeller.topology, nonbondedMethod=PME)\n",
    "integrator = VerletIntegrator(0.001*picoseconds)\n",
    "simulation = Simulation(modeller.topology, system, integrator)\n",
    "simulation.context.setPositions(modeller.positions)\n",
    "simulation.minimizeEnergy(maxIterations=100)\n",
    "print('Saving...')\n",
    "# positions = simulation.context.getState(getPositions=True).getPositions()\n",
    "# PDBFile.writeFile(simulation.topology, positions, open('1ubq_sol.pdb', 'w'))\n",
    "print('Done')"
   ]
  },
  {
   "cell_type": "code",
   "execution_count": 9,
   "id": "62b5b9cf",
   "metadata": {},
   "outputs": [],
   "source": [
    "output_traj = 'output.dcd'\n",
    "report_freq = 1000\n",
    "\n",
    "simulation.reporters.append(app.DCDReporter(output_traj, report_freq))\n",
    "simulation.reporters.append(app.StateDataReporter(stdout,\n",
    "        report_freq, step=True, time=True, speed=True,\n",
    "        potentialEnergy=True, temperature=True, totalEnergy=True))\n",
    "simulation.reporters.append(app.CheckpointReporter('checkpnt.chk', report_freq))"
   ]
  },
  {
   "cell_type": "code",
   "execution_count": 10,
   "id": "0841fb7b",
   "metadata": {},
   "outputs": [
    {
     "name": "stdout",
     "output_type": "stream",
     "text": [
      "#\"Step\",\"Time (ps)\",\"Potential Energy (kJ/mole)\",\"Total Energy (kJ/mole)\",\"Temperature (K)\",\"Speed (ns/day)\"\n",
      "1000,1.0000000000000007,-387299.1128701712,-377485.7766909302,55.365093024829044,0\n",
      "2000,1.9999999999998905,-388846.3628701712,-377487.85349680786,64.08268468474017,197\n",
      "3000,2.9999999999997806,-389582.9878701712,-377488.92360306164,68.23255424727219,210\n",
      "4000,3.9999999999996705,-390130.2378701712,-377490.915981693,71.30880052867762,207\n",
      "5000,5.000000000000004,-390599.4878701712,-377494.580310335,73.93555187347447,211\n",
      "6000,6.000000000000338,-390850.7378701712,-377493.8055821316,75.35743045448692,208\n",
      "7000,7.000000000000672,-391014.4878701712,-377494.7932715051,76.27570639084317,210\n",
      "8000,8.000000000001005,-391095.1128701712,-377499.1860746541,76.70579485342634,209\n",
      "9000,9.000000000000451,-391142.3628701712,-377495.2095983142,76.9948054993567,211\n",
      "10000,9.999999999999897,-391333.6128701712,-377494.1101782369,78.08000663191125,212\n"
     ]
    }
   ],
   "source": [
    "simulation.step(1e4)"
   ]
  },
  {
   "cell_type": "code",
   "execution_count": 11,
   "id": "70686eca",
   "metadata": {},
   "outputs": [],
   "source": [
    "state = simulation.context.getState(getPositions=True, getVelocities=True, getForces=True,\n",
    "getEnergy=True, getParameters=True, enforcePeriodicBox=True) "
   ]
  },
  {
   "cell_type": "code",
   "execution_count": 12,
   "id": "c723b455",
   "metadata": {},
   "outputs": [],
   "source": [
    "with open(\"omm_system.xml\", \"w\") as f:\n",
    "    system_xml = XmlSerializer.serialize(system)\n",
    "    f.write(system_xml)\n",
    "\n",
    "# integrator.xml contains the confiruation for the integrator, RNG seed\n",
    "with open('omm_integrator.xml', 'w') as f:\n",
    "    integrator_xml =  XmlSerializer.serialize(integrator)\n",
    "    f.write(integrator_xml)\n",
    "# state.xml contains positions, velocities, forces, the barostat\n",
    "with open('omm_state.xml', 'w') as f:\n",
    "    f.write( XmlSerializer.serialize(state)) "
   ]
  },
  {
   "cell_type": "code",
   "execution_count": 13,
   "id": "86066214",
   "metadata": {},
   "outputs": [
    {
     "ename": "ValueError",
     "evalue": "Unsupported object type",
     "output_type": "error",
     "traceback": [
      "\u001b[0;31m---------------------------------------------------------------------------\u001b[0m",
      "\u001b[0;31mValueError\u001b[0m                                Traceback (most recent call last)",
      "\u001b[0;32m<ipython-input-13-97024da5ca46>\u001b[0m in \u001b[0;36m<module>\u001b[0;34m\u001b[0m\n\u001b[1;32m      1\u001b[0m \u001b[0;32mwith\u001b[0m \u001b[0mopen\u001b[0m\u001b[0;34m(\u001b[0m\u001b[0;34m\"omm_top.xml\"\u001b[0m\u001b[0;34m,\u001b[0m \u001b[0;34m\"w\"\u001b[0m\u001b[0;34m)\u001b[0m \u001b[0;32mas\u001b[0m \u001b[0mf\u001b[0m\u001b[0;34m:\u001b[0m\u001b[0;34m\u001b[0m\u001b[0;34m\u001b[0m\u001b[0m\n\u001b[0;32m----> 2\u001b[0;31m     \u001b[0mtop_xml\u001b[0m \u001b[0;34m=\u001b[0m \u001b[0mXmlSerializer\u001b[0m\u001b[0;34m.\u001b[0m\u001b[0mserialize\u001b[0m\u001b[0;34m(\u001b[0m\u001b[0mmodeller\u001b[0m\u001b[0;34m.\u001b[0m\u001b[0mtopology\u001b[0m\u001b[0;34m)\u001b[0m\u001b[0;34m\u001b[0m\u001b[0;34m\u001b[0m\u001b[0m\n\u001b[0m\u001b[1;32m      3\u001b[0m     \u001b[0mf\u001b[0m\u001b[0;34m.\u001b[0m\u001b[0mwrite\u001b[0m\u001b[0;34m(\u001b[0m\u001b[0mtop_xml\u001b[0m\u001b[0;34m)\u001b[0m\u001b[0;34m\u001b[0m\u001b[0;34m\u001b[0m\u001b[0m\n",
      "\u001b[0;32m~/miniconda3/envs/omm/lib/python3.7/site-packages/openmm/openmm.py\u001b[0m in \u001b[0;36mserialize\u001b[0;34m(object)\u001b[0m\n\u001b[1;32m  16669\u001b[0m       \u001b[0;32melif\u001b[0m \u001b[0misinstance\u001b[0m\u001b[0;34m(\u001b[0m\u001b[0mobject\u001b[0m\u001b[0;34m,\u001b[0m \u001b[0mTabulatedFunction\u001b[0m\u001b[0;34m)\u001b[0m\u001b[0;34m:\u001b[0m\u001b[0;34m\u001b[0m\u001b[0;34m\u001b[0m\u001b[0m\n\u001b[1;32m  16670\u001b[0m         \u001b[0;32mreturn\u001b[0m \u001b[0mXmlSerializer\u001b[0m\u001b[0;34m.\u001b[0m\u001b[0m_serializeTabulatedFunction\u001b[0m\u001b[0;34m(\u001b[0m\u001b[0mobject\u001b[0m\u001b[0;34m)\u001b[0m\u001b[0;34m\u001b[0m\u001b[0;34m\u001b[0m\u001b[0m\n\u001b[0;32m> 16671\u001b[0;31m       \u001b[0;32mraise\u001b[0m \u001b[0mValueError\u001b[0m\u001b[0;34m(\u001b[0m\u001b[0;34m\"Unsupported object type\"\u001b[0m\u001b[0;34m)\u001b[0m\u001b[0;34m\u001b[0m\u001b[0;34m\u001b[0m\u001b[0m\n\u001b[0m\u001b[1;32m  16672\u001b[0m \u001b[0;34m\u001b[0m\u001b[0m\n\u001b[1;32m  16673\u001b[0m     \u001b[0;34m@\u001b[0m\u001b[0mstaticmethod\u001b[0m\u001b[0;34m\u001b[0m\u001b[0;34m\u001b[0m\u001b[0m\n",
      "\u001b[0;31mValueError\u001b[0m: Unsupported object type"
     ]
    }
   ],
   "source": [
    "with open(\"omm_top.xml\", \"w\") as f: \n",
    "    top_xml = XmlSerializer.serialize(modeller.topology)\n",
    "    f.write(top_xml)"
   ]
  },
  {
   "cell_type": "code",
   "execution_count": 16,
   "id": "2eab2727",
   "metadata": {},
   "outputs": [],
   "source": [
    "system =  XmlSerializer.deserialize(open('omm_system.xml').read())\n",
    "integrator =  XmlSerializer.deserialize(open('omm_integrator.xml').read())\n",
    "state =  XmlSerializer.deserialize(open('omm_state.xml').read()) "
   ]
  },
  {
   "cell_type": "code",
   "execution_count": 18,
   "id": "681c002b",
   "metadata": {},
   "outputs": [],
   "source": [
    "simulation = app.Simulation(topology, system, integrator)\n",
    "simulation.context.setState(state) "
   ]
  },
  {
   "cell_type": "code",
   "execution_count": null,
   "id": "3ac20600",
   "metadata": {},
   "outputs": [],
   "source": []
  }
 ],
 "metadata": {
  "kernelspec": {
   "display_name": "Python 3",
   "language": "python",
   "name": "python3"
  },
  "language_info": {
   "codemirror_mode": {
    "name": "ipython",
    "version": 3
   },
   "file_extension": ".py",
   "mimetype": "text/x-python",
   "name": "python",
   "nbconvert_exporter": "python",
   "pygments_lexer": "ipython3",
   "version": "3.7.11"
  }
 },
 "nbformat": 4,
 "nbformat_minor": 5
}
