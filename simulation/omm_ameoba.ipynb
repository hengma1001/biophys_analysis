{
 "cells": [
  {
   "cell_type": "code",
   "execution_count": 1,
   "id": "d66be0ea",
   "metadata": {},
   "outputs": [
    {
     "name": "stderr",
     "output_type": "stream",
     "text": [
      "Warning: importing 'simtk.openmm' is deprecated.  Import 'openmm' instead.\n"
     ]
    }
   ],
   "source": [
    "import os\n",
    "import numpy as np\n",
    "import parmed as pmd\n",
    "\n",
    "from openmm import * \n",
    "from openmm.app import * \n",
    "from openmm.unit import * \n",
    "\n",
    "from sys import stdout"
   ]
  },
  {
   "cell_type": "code",
   "execution_count": 2,
   "id": "61b0937b",
   "metadata": {},
   "outputs": [],
   "source": [
    "os.environ[\"CUDA_DEVICE_ORDER\"]=\"PCI_BUS_ID\"   # see issue #152\n",
    "os.environ[\"CUDA_VISIBLE_DEVICES\"]=\"7\""
   ]
  },
  {
   "cell_type": "code",
   "execution_count": 3,
   "id": "d6742493",
   "metadata": {},
   "outputs": [],
   "source": [
    "pdb = PDBFile('output.pdb')"
   ]
  },
  {
   "cell_type": "code",
   "execution_count": 4,
   "id": "0199e9c0",
   "metadata": {},
   "outputs": [],
   "source": [
    "forcefield = ForceField('amoeba2018.xml')\n",
    "# forcefield = ForceField('amber14-all.xml', 'amber14/tip3pfb.xml')"
   ]
  },
  {
   "cell_type": "code",
   "execution_count": 5,
   "id": "1251a68d",
   "metadata": {},
   "outputs": [
    {
     "name": "stdout",
     "output_type": "stream",
     "text": [
      "#\"Step\",\"Potential Energy (kJ/mole)\",\"Temperature (K)\",\"Speed (ns/day)\"\n",
      "1000,-306304.06930914783,187.43925588147334,0\n",
      "2000,-289915.38180914783,253.8213602388398,12.1\n",
      "3000,-283687.13180914783,281.53271049415685,12\n",
      "4000,-279051.19430914783,288.03620773254625,12\n",
      "5000,-277128.81930914783,298.31423193075176,12.1\n",
      "6000,-275712.10055914783,296.86528180660974,12\n",
      "7000,-274240.81930914783,296.35403537618026,12\n",
      "8000,-275055.25680914783,294.97624748801536,11.9\n",
      "9000,-273800.69430914783,292.2753853521057,12\n",
      "10000,-273797.25680914783,299.63773458598826,12\n"
     ]
    }
   ],
   "source": [
    "# forcefield = ForceField('amber14-all.xml', 'amber14/tip3pfb.xml')\n",
    "system = forcefield.createSystem(pdb.topology, nonbondedMethod=PME,\n",
    "        nonbondedCutoff=1*nanometer, constraints=HBonds)\n",
    "integrator = LangevinMiddleIntegrator(300*kelvin, 1/picosecond, 0.001*picoseconds)\n",
    "simulation = Simulation(pdb.topology, system, integrator)\n",
    "simulation.context.setPositions(pdb.positions)\n",
    "simulation.minimizeEnergy()\n",
    "simulation.reporters.append(PDBReporter('output.pdb', 1000))\n",
    "simulation.reporters.append(StateDataReporter(stdout, 1000, step=True,\n",
    "        potentialEnergy=True, temperature=True, speed=True))\n",
    "simulation.step(10000)"
   ]
  },
  {
   "cell_type": "code",
   "execution_count": null,
   "id": "5cf45839",
   "metadata": {},
   "outputs": [],
   "source": []
  }
 ],
 "metadata": {
  "kernelspec": {
   "display_name": "Python 3",
   "language": "python",
   "name": "python3"
  },
  "language_info": {
   "codemirror_mode": {
    "name": "ipython",
    "version": 3
   },
   "file_extension": ".py",
   "mimetype": "text/x-python",
   "name": "python",
   "nbconvert_exporter": "python",
   "pygments_lexer": "ipython3",
   "version": "3.7.11"
  }
 },
 "nbformat": 4,
 "nbformat_minor": 5
}
