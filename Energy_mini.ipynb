{
 "cells": [
  {
   "cell_type": "code",
   "execution_count": 1,
   "metadata": {},
   "outputs": [],
   "source": [
    "import simtk.openmm.app as app\n",
    "import simtk.openmm as omm\n",
    "import simtk.unit as u\n",
    "\n",
    "import parmed as pmd"
   ]
  },
  {
   "cell_type": "code",
   "execution_count": 2,
   "metadata": {},
   "outputs": [],
   "source": [
    "top_file = None\n",
    "pdb_file = '../MD_exps/fs-pep/pdb/100-fs-peptide-400K.pdb'"
   ]
  },
  {
   "cell_type": "code",
   "execution_count": 3,
   "metadata": {},
   "outputs": [],
   "source": [
    "output_traj=\"output.dcd\", \n",
    "output_log=\"output.log\", \n",
    "output_cm=None,\n",
    "report_time=10*u.picoseconds, \n",
    "sim_time=10*u.nanoseconds"
   ]
  },
  {
   "cell_type": "code",
   "execution_count": 4,
   "metadata": {},
   "outputs": [],
   "source": [
    "if top_file:\n",
    "    pdb = pmd.load_file(top_file, xyz = pdb_file)\n",
    "    system = pdb.createSystem(nonbondedMethod=app.CutoffNonPeriodic,\n",
    "            nonbondedCutoff=1.0*u.nanometer, constraints=app.HBonds,\n",
    "            implicitSolvent=app.OBC1)\n",
    "else:\n",
    "    pdb = pmd.load_file(pdb_file)\n",
    "    forcefield = app.ForceField('amber99sbildn.xml', 'amber99_obc.xml')\n",
    "    system = forcefield.createSystem(pdb.topology, nonbondedMethod=app.CutoffNonPeriodic,\n",
    "            nonbondedCutoff=1.0*u.nanometer, constraints=app.HBonds)\n",
    "\n",
    "dt = 0.002*u.picoseconds\n",
    "integrator = omm.LangevinIntegrator(300*u.kelvin, 91.0/u.picosecond, dt)\n",
    "integrator.setConstraintTolerance(0.00001)"
   ]
  },
  {
   "cell_type": "code",
   "execution_count": 5,
   "metadata": {},
   "outputs": [
    {
     "data": {
      "text/plain": [
       "Quantity(value=Vec3(x=8.345, y=-12.219, z=7.106), unit=angstrom)"
      ]
     },
     "execution_count": 5,
     "metadata": {},
     "output_type": "execute_result"
    }
   ],
   "source": [
    "pdb.positions[0]"
   ]
  },
  {
   "cell_type": "code",
   "execution_count": 6,
   "metadata": {},
   "outputs": [],
   "source": [
    "import random"
   ]
  },
  {
   "cell_type": "code",
   "execution_count": 7,
   "metadata": {},
   "outputs": [],
   "source": [
    "simulation = app.Simulation(pdb.topology, system, integrator)"
   ]
  },
  {
   "cell_type": "raw",
   "metadata": {},
   "source": [
    "simulation.minimizeEnergy(tolerance=1000*u.kilojoule/u.mole)"
   ]
  },
  {
   "cell_type": "code",
   "execution_count": 8,
   "metadata": {},
   "outputs": [
    {
     "name": "stdout",
     "output_type": "stream",
     "text": [
      "-1767.99816895 kJ/mol\n",
      "-1718.19921875 kJ/mol\n"
     ]
    }
   ],
   "source": [
    "simulation.context.setPositions(pdb.positions)\n",
    "app.PDBFile.writeFile(pdb.topology, simulation.context.getState(getPositions=True) .getPositions(), open('fs_test1.pdb', 'w'))\n",
    "print(simulation.context.getState(getEnergy=True).getPotentialEnergy())\n",
    "\n",
    "simulation.context.setPositions(random.choice(pdb.get_coordinates())/10) \n",
    "app.PDBFile.writeFile(pdb.topology, simulation.context.getState(getPositions=True) .getPositions(), open('fs_test2.pdb', 'w'))\n",
    "print(simulation.context.getState(getEnergy=True).getPotentialEnergy())"
   ]
  },
  {
   "cell_type": "code",
   "execution_count": 9,
   "metadata": {},
   "outputs": [
    {
     "name": "stdout",
     "output_type": "stream",
     "text": [
      "-1718.19921875 kJ/mol\n",
      "-2780.66113281 kJ/mol\n"
     ]
    }
   ],
   "source": [
    "print(simulation.context.getState(getEnergy=True).getPotentialEnergy())\n",
    "app.PDBFile.writeFile(pdb.topology, simulation.context.getState(getPositions=True).getPositions(), open('fs_premini.pdb', 'w'))\n",
    "simulation.minimizeEnergy()\n",
    "print(simulation.context.getState(getEnergy=True).getPotentialEnergy()) \n",
    "app.PDBFile.writeFile(pdb.topology, simulation.context.getState(getPositions=True).getPositions(), open('fs_postmini.pdb', 'w'))"
   ]
  },
  {
   "cell_type": "code",
   "execution_count": 23,
   "metadata": {},
   "outputs": [],
   "source": [
    "pdb_mframes = '../../experiments_BBA/MD_exps/BBA/pdb/bba_relaxed.pdb' "
   ]
  },
  {
   "cell_type": "code",
   "execution_count": 12,
   "metadata": {},
   "outputs": [],
   "source": [
    "app.PDBFile.writeFile(pdb.topology, simulation.context.getState(getPositions=True).getPositions(), open('fs_mini.pdb', 'w'))"
   ]
  },
  {
   "cell_type": "raw",
   "metadata": {},
   "source": [
    "report_freq = int(report_time/dt)\n",
    "simulation.context.setVelocitiesToTemperature(10*u.kelvin, random.randint(1, 10000))\n",
    "simulation.reporters.append(app.DCDReporter(output_traj, report_freq))\n",
    "if output_cm:\n",
    "    simulation.reporters.append(ContactMapReporter(output_cm, report_freq))\n",
    "simulation.reporters.append(app.StateDataReporter(output_log,\n",
    "        report_freq, step=True, time=True, speed=True,\n",
    "        potentialEnergy=True, temperature=True, totalEnergy=True))\n",
    "simulation.reporters.append(app.CheckpointReporter('checkpnt.chk', report_freq))\n",
    "\n",
    "if check_point:\n",
    "    simulation.loadCheckpoint(check_point)\n",
    "nsteps = int(sim_time/dt)\n",
    "simulation.step(nsteps)"
   ]
  }
 ],
 "metadata": {
  "kernelspec": {
   "display_name": "Python 2",
   "language": "python",
   "name": "python2"
  },
  "language_info": {
   "codemirror_mode": {
    "name": "ipython",
    "version": 2
   },
   "file_extension": ".py",
   "mimetype": "text/x-python",
   "name": "python",
   "nbconvert_exporter": "python",
   "pygments_lexer": "ipython2",
   "version": "2.7.16"
  }
 },
 "nbformat": 4,
 "nbformat_minor": 2
}
