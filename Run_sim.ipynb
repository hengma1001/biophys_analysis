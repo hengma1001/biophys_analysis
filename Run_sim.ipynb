{
 "cells": [
  {
   "cell_type": "code",
   "execution_count": 1,
   "metadata": {},
   "outputs": [],
   "source": [
    "import simtk.openmm.app as app\n",
    "import simtk.openmm as omm\n",
    "import simtk.unit as u\n",
    "\n",
    "import parmed as pmd"
   ]
  },
  {
   "cell_type": "code",
   "execution_count": 2,
   "metadata": {},
   "outputs": [],
   "source": [
    "top_file = '../MD_exps/VHP_exp/pdb/vhp1ww.top' \n",
    "pdb_file = './vhp1ww.pdb'"
   ]
  },
  {
   "cell_type": "code",
   "execution_count": 3,
   "metadata": {},
   "outputs": [],
   "source": [
    "output_traj=\"output.dcd\" \n",
    "output_log=\"output.log\" \n",
    "output_cm=None \n",
    "report_time=10*u.picoseconds \n",
    "sim_time=10*u.nanoseconds"
   ]
  },
  {
   "cell_type": "code",
   "execution_count": 4,
   "metadata": {},
   "outputs": [],
   "source": [
    "if top_file:\n",
    "    pdb = pmd.load_file(top_file, xyz = pdb_file)\n",
    "    system = pdb.createSystem(nonbondedMethod=app.CutoffNonPeriodic,\n",
    "            nonbondedCutoff=1.0*u.nanometer, constraints=app.HBonds,\n",
    "            implicitSolvent=app.OBC1)\n",
    "else:\n",
    "    pdb = pmd.load_file(pdb_file)\n",
    "    forcefield = app.ForceField('amber99sbildn.xml', 'amber99_obc.xml')\n",
    "    system = forcefield.createSystem(pdb.topology, nonbondedMethod=app.CutoffNonPeriodic,\n",
    "            nonbondedCutoff=1.0*u.nanometer, constraints=app.HBonds)\n",
    "\n",
    "dt = 0.002*u.picoseconds\n",
    "integrator = omm.LangevinIntegrator(300*u.kelvin, 91.0/u.picosecond, dt)\n",
    "integrator.setConstraintTolerance(0.00001)"
   ]
  },
  {
   "cell_type": "code",
   "execution_count": 5,
   "metadata": {},
   "outputs": [
    {
     "data": {
      "text/plain": [
       "Quantity(value=Vec3(x=11.522, y=-46.675, z=-30.412), unit=angstrom)"
      ]
     },
     "execution_count": 5,
     "metadata": {},
     "output_type": "execute_result"
    }
   ],
   "source": [
    "pdb.positions[0]"
   ]
  },
  {
   "cell_type": "code",
   "execution_count": 6,
   "metadata": {},
   "outputs": [],
   "source": [
    "import random"
   ]
  },
  {
   "cell_type": "code",
   "execution_count": 7,
   "metadata": {},
   "outputs": [],
   "source": [
    "simulation = app.Simulation(pdb.topology, system, integrator)\n",
    "simulation.context.setPositions(random.choice(pdb.get_coordinates()))"
   ]
  },
  {
   "cell_type": "code",
   "execution_count": 11,
   "metadata": {},
   "outputs": [],
   "source": [
    "simulation.context.setPositions(pdb.positions)\n",
    "app.PDBFile.writeFile(pdb.topology, simulation.context.getState(getPositions=True) .getPositions(), open('vhp_test.pdb', 'w'))\n",
    "print(simulation.context.getState(getEnergy=True).getPotentialEnergy())\n",
    "\n",
    "simulation.context.setPositions(random.choice(pdb.get_coordinates())) \n",
    "app.PDBFile.writeFile(pdb.topology, simulation.context.getState(getPositions=True) .getPositions(), open('vhp_test.pdb', 'w'))\n",
    "print(simulation.context.getState(getEnergy=True).getPotentialEnergy())"
   ]
  },
  {
   "cell_type": "code",
   "execution_count": 10,
   "metadata": {},
   "outputs": [
    {
     "name": "stdout",
     "output_type": "stream",
     "text": [
      "121763144.0 kJ/mol\n"
     ]
    }
   ],
   "source": [
    "print(simulation.context.getState(getEnergy=True).getPotentialEnergy())"
   ]
  },
  {
   "cell_type": "raw",
   "metadata": {},
   "source": [
    "simulation.minimizeEnergy(tolerance=1*u.kilojoule/u.mole)"
   ]
  },
  {
   "cell_type": "code",
   "execution_count": 9,
   "metadata": {},
   "outputs": [],
   "source": [
    "state = simulation.context.getState(getPositions=True) "
   ]
  },
  {
   "cell_type": "code",
   "execution_count": 10,
   "metadata": {},
   "outputs": [],
   "source": [
    "app.PDBFile.writeFile(pdb.topology, state.getPositions(), open('vhp_mini2.pdb', 'w'))"
   ]
  },
  {
   "cell_type": "code",
   "execution_count": null,
   "metadata": {},
   "outputs": [],
   "source": [
    "report_freq = int(report_time/dt)\n",
    "simulation.context.setVelocitiesToTemperature(10*u.kelvin, random.randint(1, 10000))\n",
    "simulation.reporters.append(app.DCDReporter(output_traj, report_freq))\n",
    "if output_cm:\n",
    "    simulation.reporters.append(ContactMapReporter(output_cm, report_freq))\n",
    "simulation.reporters.append(app.StateDataReporter(output_log,\n",
    "        report_freq, step=True, time=True, speed=True,\n",
    "        potentialEnergy=True, temperature=True, totalEnergy=True))\n",
    "simulation.reporters.append(app.CheckpointReporter('checkpnt.chk', report_freq))\n",
    "\n",
    "# if check_point:\n",
    "#     simulation.loadCheckpoint(check_point)\n",
    "nsteps = int(sim_time/dt)\n",
    "simulation.step(nsteps)"
   ]
  },
  {
   "cell_type": "code",
   "execution_count": 14,
   "metadata": {},
   "outputs": [
    {
     "data": {
      "text/plain": [
       "5000.0"
      ]
     },
     "execution_count": 14,
     "metadata": {},
     "output_type": "execute_result"
    }
   ],
   "source": [
    "x = 10*u.picoseconds/ (0.002*u.picoseconds)\n",
    "x"
   ]
  },
  {
   "cell_type": "code",
   "execution_count": null,
   "metadata": {},
   "outputs": [],
   "source": []
  }
 ],
 "metadata": {
  "kernelspec": {
   "display_name": "Python 2",
   "language": "python",
   "name": "python2"
  },
  "language_info": {
   "codemirror_mode": {
    "name": "ipython",
    "version": 2
   },
   "file_extension": ".py",
   "mimetype": "text/x-python",
   "name": "python",
   "nbconvert_exporter": "python",
   "pygments_lexer": "ipython2",
   "version": "2.7.16"
  }
 },
 "nbformat": 4,
 "nbformat_minor": 2
}
