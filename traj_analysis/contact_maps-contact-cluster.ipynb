{
 "cells": [
  {
   "cell_type": "code",
   "execution_count": 1,
   "metadata": {},
   "outputs": [],
   "source": [
    "import os\n",
    "import sys\n",
    "import glob\n",
    "\n",
    "import numpy as np\n",
    "import pandas as pd\n",
    "import matplotlib.pyplot as plt\n",
    "\n",
    "import MDAnalysis as mda\n",
    "from MDAnalysis.analysis import distances\n",
    "from tqdm import tqdm\n",
    "from numpy import linalg as LA\n",
    "from scipy.signal import lfilter\n",
    "\n",
    "sys.path.append(\"../py_modules/\")\n",
    "\n",
    "from utils import sparse_to_full, triu_to_full"
   ]
  },
  {
   "cell_type": "code",
   "execution_count": 2,
   "metadata": {},
   "outputs": [],
   "source": [
    "runs = sorted(glob.glob(\"../clustering_40_sys/pdb_save_clustering/comp*\"))"
   ]
  },
  {
   "cell_type": "code",
   "execution_count": 10,
   "metadata": {},
   "outputs": [],
   "source": [
    "nsp10_int_res = np.array([[4293, 4300], [4322, 4337], [4346, 4349]])\n",
    "nsp16_int_res = np.array([[6835, 6846], [6874, 6889], [6900, 6908], [7042, 7046]])"
   ]
  },
  {
   "cell_type": "code",
   "execution_count": 3,
   "metadata": {
    "scrolled": true
   },
   "outputs": [
    {
     "name": "stderr",
     "output_type": "stream",
     "text": [
      "  0%|          | 0/26 [00:00<?, ?it/s]/homes/heng.ma/miniconda3/envs/MD_ff/lib/python3.6/site-packages/MDAnalysis/coordinates/base.py:892: UserWarning: Reader has no dt information, set to 1.0 ps\n",
      "  warnings.warn(\"Reader has no dt information, set to 1.0 ps\")\n",
      "100%|██████████| 26/26 [00:58<00:00,  2.26s/it]\n",
      "100%|██████████| 28/28 [01:09<00:00,  2.49s/it]\n",
      "100%|██████████| 23/23 [00:56<00:00,  2.46s/it]\n",
      "100%|██████████| 28/28 [01:06<00:00,  2.37s/it]\n"
     ]
    }
   ],
   "source": [
    "df = []\n",
    "\n",
    "for run in runs[:]: \n",
    "    clusters = sorted(glob.glob(f\"{run}/cluster_*\"))\n",
    "    for cluster in tqdm(clusters[:]): \n",
    "        pdbs = sorted(glob.glob(f\"{cluster}/*.pdb\")) \n",
    "        mda_u = mda.Universe(pdbs[0], pdbs)\n",
    "        \n",
    "        nsp10 = mda_u.select_atoms('protein and name CA and segid B')\n",
    "        nsp16 = mda_u.select_atoms('protein and name CA and segid A')\n",
    "        \n",
    "        contact_maps = []\n",
    "        for _ in mda_u.trajectory: \n",
    "            dist_map = distances.distance_array(\n",
    "                        nsp10.positions, nsp16.positions, \n",
    "                        box=nsp10.dimensions)\n",
    "            contact_map = (dist_map < 10) * 1\n",
    "            contact_maps.append(contact_map)\n",
    "            \n",
    "        contact_maps_mean = np.mean(contact_maps, axis=0)\n",
    "        df.append({\"sys_name\": os.path.basename(run), \n",
    "                   \"cluster_name\": os.path.basename(cluster), \n",
    "                   \"contact_map\": contact_maps_mean})"
   ]
  },
  {
   "cell_type": "code",
   "execution_count": 4,
   "metadata": {},
   "outputs": [
    {
     "data": {
      "text/html": [
       "<div>\n",
       "<style scoped>\n",
       "    .dataframe tbody tr th:only-of-type {\n",
       "        vertical-align: middle;\n",
       "    }\n",
       "\n",
       "    .dataframe tbody tr th {\n",
       "        vertical-align: top;\n",
       "    }\n",
       "\n",
       "    .dataframe thead th {\n",
       "        text-align: right;\n",
       "    }\n",
       "</style>\n",
       "<table border=\"1\" class=\"dataframe\">\n",
       "  <thead>\n",
       "    <tr style=\"text-align: right;\">\n",
       "      <th></th>\n",
       "      <th>sys_name</th>\n",
       "      <th>cluster_name</th>\n",
       "      <th>contact_map</th>\n",
       "    </tr>\n",
       "  </thead>\n",
       "  <tbody>\n",
       "    <tr>\n",
       "      <th>0</th>\n",
       "      <td>comp</td>\n",
       "      <td>cluster_000</td>\n",
       "      <td>[[0.0, 0.0, 0.0, 0.0, 0.0, 0.0, 0.0, 0.0, 0.0,...</td>\n",
       "    </tr>\n",
       "    <tr>\n",
       "      <th>1</th>\n",
       "      <td>comp</td>\n",
       "      <td>cluster_001</td>\n",
       "      <td>[[0.0, 0.0, 0.0, 0.0, 0.0, 0.0, 0.0, 0.0, 0.0,...</td>\n",
       "    </tr>\n",
       "    <tr>\n",
       "      <th>2</th>\n",
       "      <td>comp</td>\n",
       "      <td>cluster_002</td>\n",
       "      <td>[[0.0, 0.0, 0.0, 0.0, 0.0, 0.0, 0.0, 0.0, 0.0,...</td>\n",
       "    </tr>\n",
       "    <tr>\n",
       "      <th>3</th>\n",
       "      <td>comp</td>\n",
       "      <td>cluster_003</td>\n",
       "      <td>[[0.0, 0.0, 0.0, 0.0, 0.0, 0.0, 0.0, 0.0, 0.0,...</td>\n",
       "    </tr>\n",
       "    <tr>\n",
       "      <th>4</th>\n",
       "      <td>comp</td>\n",
       "      <td>cluster_004</td>\n",
       "      <td>[[0.0, 0.0, 0.0, 0.0, 0.0, 0.0, 0.0, 0.0, 0.0,...</td>\n",
       "    </tr>\n",
       "    <tr>\n",
       "      <th>...</th>\n",
       "      <td>...</td>\n",
       "      <td>...</td>\n",
       "      <td>...</td>\n",
       "    </tr>\n",
       "    <tr>\n",
       "      <th>100</th>\n",
       "      <td>comp_sfg</td>\n",
       "      <td>cluster_023</td>\n",
       "      <td>[[0.0, 0.0, 0.0, 0.0, 0.0, 0.0, 0.0, 0.0, 0.0,...</td>\n",
       "    </tr>\n",
       "    <tr>\n",
       "      <th>101</th>\n",
       "      <td>comp_sfg</td>\n",
       "      <td>cluster_024</td>\n",
       "      <td>[[0.0, 0.0, 0.0, 0.0, 0.0, 0.0, 0.0, 0.0, 0.0,...</td>\n",
       "    </tr>\n",
       "    <tr>\n",
       "      <th>102</th>\n",
       "      <td>comp_sfg</td>\n",
       "      <td>cluster_025</td>\n",
       "      <td>[[0.0, 0.0, 0.0, 0.0, 0.0, 0.0, 0.0, 0.0, 0.0,...</td>\n",
       "    </tr>\n",
       "    <tr>\n",
       "      <th>103</th>\n",
       "      <td>comp_sfg</td>\n",
       "      <td>cluster_026</td>\n",
       "      <td>[[0.0, 0.0, 0.0, 0.0, 0.0, 0.0, 0.0, 0.0, 0.0,...</td>\n",
       "    </tr>\n",
       "    <tr>\n",
       "      <th>104</th>\n",
       "      <td>comp_sfg</td>\n",
       "      <td>cluster_027</td>\n",
       "      <td>[[0.0, 0.0, 0.0, 0.0, 0.0, 0.0, 0.0, 0.0, 0.0,...</td>\n",
       "    </tr>\n",
       "  </tbody>\n",
       "</table>\n",
       "<p>105 rows × 3 columns</p>\n",
       "</div>"
      ],
      "text/plain": [
       "     sys_name cluster_name                                        contact_map\n",
       "0        comp  cluster_000  [[0.0, 0.0, 0.0, 0.0, 0.0, 0.0, 0.0, 0.0, 0.0,...\n",
       "1        comp  cluster_001  [[0.0, 0.0, 0.0, 0.0, 0.0, 0.0, 0.0, 0.0, 0.0,...\n",
       "2        comp  cluster_002  [[0.0, 0.0, 0.0, 0.0, 0.0, 0.0, 0.0, 0.0, 0.0,...\n",
       "3        comp  cluster_003  [[0.0, 0.0, 0.0, 0.0, 0.0, 0.0, 0.0, 0.0, 0.0,...\n",
       "4        comp  cluster_004  [[0.0, 0.0, 0.0, 0.0, 0.0, 0.0, 0.0, 0.0, 0.0,...\n",
       "..        ...          ...                                                ...\n",
       "100  comp_sfg  cluster_023  [[0.0, 0.0, 0.0, 0.0, 0.0, 0.0, 0.0, 0.0, 0.0,...\n",
       "101  comp_sfg  cluster_024  [[0.0, 0.0, 0.0, 0.0, 0.0, 0.0, 0.0, 0.0, 0.0,...\n",
       "102  comp_sfg  cluster_025  [[0.0, 0.0, 0.0, 0.0, 0.0, 0.0, 0.0, 0.0, 0.0,...\n",
       "103  comp_sfg  cluster_026  [[0.0, 0.0, 0.0, 0.0, 0.0, 0.0, 0.0, 0.0, 0.0,...\n",
       "104  comp_sfg  cluster_027  [[0.0, 0.0, 0.0, 0.0, 0.0, 0.0, 0.0, 0.0, 0.0,...\n",
       "\n",
       "[105 rows x 3 columns]"
      ]
     },
     "execution_count": 4,
     "metadata": {},
     "output_type": "execute_result"
    }
   ],
   "source": [
    "df = pd.DataFrame(df)\n",
    "df"
   ]
  },
  {
   "cell_type": "code",
   "execution_count": 31,
   "metadata": {},
   "outputs": [],
   "source": [
    "df.to_pickle('cm_cluster.pkl')"
   ]
  },
  {
   "cell_type": "code",
   "execution_count": 30,
   "metadata": {},
   "outputs": [],
   "source": [
    "cm0 = df.iloc[0]['contact_map']"
   ]
  },
  {
   "cell_type": "code",
   "execution_count": 29,
   "metadata": {},
   "outputs": [
    {
     "data": {
      "image/png": "[encoded data removed]",
      "text/plain": [
       "<Figure size 720x576 with 12 Axes>"
      ]
     },
     "metadata": {},
     "output_type": "display_data"
    }
   ],
   "source": [
    "fig, axes = plt.subplots(3, 4, figsize=(10, 8)) \n",
    "\n",
    "for i, nsp10_res in enumerate(nsp10_int_res): \n",
    "    nsp10_res = nsp10_res - 4271\n",
    "    for j, nsp16_res in enumerate(nsp16_int_res): \n",
    "        nsp16_res = nsp16_res - 6798\n",
    "        ax = axes[i, j]\n",
    "        \n",
    "        ax.imshow(cm0[nsp10_res[0]:nsp10_res[1], nsp16_res[0]:nsp16_res[1]], cmap='viridis')\n",
    "    "
   ]
  },
  {
   "cell_type": "code",
   "execution_count": 6,
   "metadata": {},
   "outputs": [
    {
     "data": {
      "text/plain": [
       "<matplotlib.image.AxesImage at 0x7f9e9b794a58>"
      ]
     },
     "execution_count": 6,
     "metadata": {},
     "output_type": "execute_result"
    },
    {
     "data": {
      "image/png": "[encoded data removed]",
      "text/plain": [
       "<Figure size 432x288 with 1 Axes>"
      ]
     },
     "metadata": {
      "needs_background": "light"
     },
     "output_type": "display_data"
    }
   ],
   "source": [
    "plt.imshow(df.iloc[0]['contact_map'])"
   ]
  },
  {
   "cell_type": "code",
   "execution_count": 8,
   "metadata": {},
   "outputs": [
    {
     "data": {
      "text/plain": [
       "<Residue ALA, 6798>"
      ]
     },
     "execution_count": 8,
     "metadata": {},
     "output_type": "execute_result"
    }
   ],
   "source": [
    "nsp16.residues[0]"
   ]
  },
  {
   "cell_type": "code",
   "execution_count": 13,
   "metadata": {},
   "outputs": [
    {
     "data": {
      "text/plain": [
       "<matplotlib.image.AxesImage at 0x7f1e015fe828>"
      ]
     },
     "execution_count": 13,
     "metadata": {},
     "output_type": "execute_result"
    },
    {
     "data": {
      "image/png": "[encoded data removed]",
      "text/plain": [
       "<Figure size 432x288 with 1 Axes>"
      ]
     },
     "metadata": {
      "needs_background": "light"
     },
     "output_type": "display_data"
    }
   ],
   "source": [
    "plt.imshow(contact_maps_mean)"
   ]
  },
  {
   "cell_type": "code",
   "execution_count": 3,
   "metadata": {
    "scrolled": true
   },
   "outputs": [
    {
     "name": "stderr",
     "output_type": "stream",
     "text": [
      "100%|██████████| 1/1 [00:07<00:00,  7.51s/it]\n"
     ]
    }
   ],
   "source": [
    "contact_maps = []\n",
    "cutoff = 10\n",
    "for run in tqdm(runs[:1]):\n",
    "    pdb_file = run\n",
    "    dcd_file = run.replace(\"pdb\", \"dcd\")\n",
    "\n",
    "    run_base = os.path.basename(run)[:-4]\n",
    "    if run.split('/')[-2] == 'Nsp10_Nsp16': \n",
    "        run_base += '_000'\n",
    "    elif run.split('/')[-2].endswith('mono'): \n",
    "        continue\n",
    "\n",
    "    mda_traj = mda.Universe(pdb_file, dcd_file)\n",
    "\n",
    "    nsp16 = mda_traj.select_atoms(\"segid A\")\n",
    "    nsp10 = mda_traj.select_atoms(\"segid B\")\n",
    "#     no_sol = mda_traj.select_atoms(\"protein\")\n",
    "#     cm_list = []\n",
    "    \n",
    "    nsp16_ca = nsp16.select_atoms('name CA') \n",
    "    nsp10_ca = nsp10.select_atoms('name CA')\n",
    "#     protein_ca = mda_traj.select_atoms('protein and name CA')\n",
    "    for ts in mda_traj.trajectory[:]:\n",
    "        cm  = (distances.distance_array(\n",
    "            nsp10_ca.positions, nsp16_ca.positions, \n",
    "#             protein_ca.positions, \n",
    "            box = ts.dimensions) < cutoff) * 1\n",
    "#         print(np.where(cm==1)[0].shape, len(cm), triu_to_full(cm).shape)\n",
    "#         print(cm.shape)\n",
    "        \n",
    "        contact_maps.append(cm)"
   ]
  },
  {
   "cell_type": "raw",
   "metadata": {},
   "source": [
    "df = pd.DataFrame(df)\n",
    "df.head()"
   ]
  },
  {
   "cell_type": "code",
   "execution_count": 4,
   "metadata": {},
   "outputs": [
    {
     "data": {
      "text/plain": [
       "(10000, 116, 299)"
      ]
     },
     "execution_count": 4,
     "metadata": {},
     "output_type": "execute_result"
    }
   ],
   "source": [
    "# contact_maps = df.contact_maps.to_numpy()\n",
    "contact_maps = np.array(contact_maps)\n",
    "contact_maps.shape"
   ]
  },
  {
   "cell_type": "code",
   "execution_count": 6,
   "metadata": {},
   "outputs": [
    {
     "data": {
      "text/plain": [
       "<matplotlib.image.AxesImage at 0x7f5f255a0240>"
      ]
     },
     "execution_count": 6,
     "metadata": {},
     "output_type": "execute_result"
    },
    {
     "data": {
      "image/png": "[encoded data removed]",
      "text/plain": [
       "<Figure size 432x288 with 1 Axes>"
      ]
     },
     "metadata": {
      "needs_background": "light"
     },
     "output_type": "display_data"
    }
   ],
   "source": [
    "plt.imshow(contact_maps[0])"
   ]
  },
  {
   "cell_type": "code",
   "execution_count": 10,
   "metadata": {},
   "outputs": [],
   "source": [
    "nsp10_contact_atom, nsp16_contact_atom = np.where(contact_maps[0] == 1)"
   ]
  },
  {
   "cell_type": "code",
   "execution_count": 15,
   "metadata": {},
   "outputs": [],
   "source": [
    "def print_res_info(atom): \n",
    "    return f'{atom.resname}-{atom.resnum}'"
   ]
  },
  {
   "cell_type": "code",
   "execution_count": 27,
   "metadata": {},
   "outputs": [],
   "source": [
    "contact_res = []\n",
    "for i in np.unique(nsp10_contact_atom):\n",
    "    atom = nsp10_ca[i]\n",
    "    contact_res.append({'chain': 'nsp10', 'resname': atom.resname, 'resnum': atom.resnum})\n",
    "\n",
    "for i in np.unique(nsp16_contact_atom):\n",
    "    atom = nsp16_ca[i]\n",
    "    contact_res.append({'chain': 'nsp16', 'resname': atom.resname, 'resnum': atom.resnum})"
   ]
  },
  {
   "cell_type": "code",
   "execution_count": 29,
   "metadata": {},
   "outputs": [
    {
     "data": {
      "text/html": [
       "<div>\n",
       "<style scoped>\n",
       "    .dataframe tbody tr th:only-of-type {\n",
       "        vertical-align: middle;\n",
       "    }\n",
       "\n",
       "    .dataframe tbody tr th {\n",
       "        vertical-align: top;\n",
       "    }\n",
       "\n",
       "    .dataframe thead th {\n",
       "        text-align: right;\n",
       "    }\n",
       "</style>\n",
       "<table border=\"1\" class=\"dataframe\">\n",
       "  <thead>\n",
       "    <tr style=\"text-align: right;\">\n",
       "      <th></th>\n",
       "      <th>chain</th>\n",
       "      <th>resname</th>\n",
       "      <th>resnum</th>\n",
       "    </tr>\n",
       "  </thead>\n",
       "  <tbody>\n",
       "    <tr>\n",
       "      <th>0</th>\n",
       "      <td>nsp10</td>\n",
       "      <td>THR</td>\n",
       "      <td>4292</td>\n",
       "    </tr>\n",
       "    <tr>\n",
       "      <th>1</th>\n",
       "      <td>nsp10</td>\n",
       "      <td>ASN</td>\n",
       "      <td>4293</td>\n",
       "    </tr>\n",
       "    <tr>\n",
       "      <th>2</th>\n",
       "      <td>nsp10</td>\n",
       "      <td>CYS</td>\n",
       "      <td>4294</td>\n",
       "    </tr>\n",
       "    <tr>\n",
       "      <th>3</th>\n",
       "      <td>nsp10</td>\n",
       "      <td>VAL</td>\n",
       "      <td>4295</td>\n",
       "    </tr>\n",
       "    <tr>\n",
       "      <th>4</th>\n",
       "      <td>nsp10</td>\n",
       "      <td>LYS</td>\n",
       "      <td>4296</td>\n",
       "    </tr>\n",
       "    <tr>\n",
       "      <th>...</th>\n",
       "      <td>...</td>\n",
       "      <td>...</td>\n",
       "      <td>...</td>\n",
       "    </tr>\n",
       "    <tr>\n",
       "      <th>64</th>\n",
       "      <td>nsp16</td>\n",
       "      <td>MET</td>\n",
       "      <td>7045</td>\n",
       "    </tr>\n",
       "    <tr>\n",
       "      <th>65</th>\n",
       "      <td>nsp16</td>\n",
       "      <td>SER</td>\n",
       "      <td>7046</td>\n",
       "    </tr>\n",
       "    <tr>\n",
       "      <th>66</th>\n",
       "      <td>nsp16</td>\n",
       "      <td>LYS</td>\n",
       "      <td>7047</td>\n",
       "    </tr>\n",
       "    <tr>\n",
       "      <th>67</th>\n",
       "      <td>nsp16</td>\n",
       "      <td>PHE</td>\n",
       "      <td>7048</td>\n",
       "    </tr>\n",
       "    <tr>\n",
       "      <th>68</th>\n",
       "      <td>nsp16</td>\n",
       "      <td>PRO</td>\n",
       "      <td>7049</td>\n",
       "    </tr>\n",
       "  </tbody>\n",
       "</table>\n",
       "<p>69 rows × 3 columns</p>\n",
       "</div>"
      ],
      "text/plain": [
       "    chain resname  resnum\n",
       "0   nsp10     THR    4292\n",
       "1   nsp10     ASN    4293\n",
       "2   nsp10     CYS    4294\n",
       "3   nsp10     VAL    4295\n",
       "4   nsp10     LYS    4296\n",
       "..    ...     ...     ...\n",
       "64  nsp16     MET    7045\n",
       "65  nsp16     SER    7046\n",
       "66  nsp16     LYS    7047\n",
       "67  nsp16     PHE    7048\n",
       "68  nsp16     PRO    7049\n",
       "\n",
       "[69 rows x 3 columns]"
      ]
     },
     "execution_count": 29,
     "metadata": {},
     "output_type": "execute_result"
    }
   ],
   "source": [
    "contact_res = pd.DataFrame(contact_res)\n",
    "contact_res.to_pickle('contact_res_nsp10_nsp16.pkl')\n",
    "contact_res"
   ]
  },
  {
   "cell_type": "code",
   "execution_count": 6,
   "metadata": {},
   "outputs": [
    {
     "name": "stdout",
     "output_type": "stream",
     "text": [
      "(360000, 120, 304)\n"
     ]
    }
   ],
   "source": [
    "# padding if odd dimension occurs in image\n",
    "padding = 8\n",
    "pad_f = lambda x: (0,0) if x%padding == 0 else (0,padding-x%padding)\n",
    "padding_buffer = [(0,0)]\n",
    "for x in contact_maps.shape[1:]:\n",
    "    padding_buffer.append(pad_f(x))\n",
    "contact_maps = np.pad(contact_maps, padding_buffer, mode='constant')\n",
    "print(contact_maps.shape)"
   ]
  },
  {
   "cell_type": "code",
   "execution_count": 7,
   "metadata": {},
   "outputs": [],
   "source": [
    "contact_maps = contact_maps.reshape((contact_maps.shape) + (1,))"
   ]
  },
  {
   "cell_type": "code",
   "execution_count": 9,
   "metadata": {},
   "outputs": [],
   "source": [
    "import h5py \n",
    "\n",
    "h5_file = './' + f\"/cvae_input_contact.h5\"\n",
    "cm_h5 = h5py.File(h5_file, 'w')\n",
    "cm_h5.create_dataset('contact_maps', data=contact_maps)\n",
    "# cm_h5.create_dataset('rmsd', data=rmsd_profs)\n",
    "cm_h5.close()"
   ]
  },
  {
   "cell_type": "code",
   "execution_count": 9,
   "metadata": {},
   "outputs": [],
   "source": [
    "df.to_pickle('cm_nsp10-16.pkl')"
   ]
  },
  {
   "cell_type": "code",
   "execution_count": 15,
   "metadata": {},
   "outputs": [
    {
     "data": {
      "text/plain": [
       "[<matplotlib.lines.Line2D at 0x7feab1ff2320>]"
      ]
     },
     "execution_count": 15,
     "metadata": {},
     "output_type": "execute_result"
    },
    {
     "data": {
      "image/png": "[encoded data removed]",
      "text/plain": [
       "<Figure size 432x288 with 1 Axes>"
      ]
     },
     "metadata": {
      "needs_background": "light"
     },
     "output_type": "display_data"
    }
   ],
   "source": [
    "plt.plot(df[df['sys_name'] == 'comp_rna7jyy_072']['dist'].item())"
   ]
  },
  {
   "cell_type": "code",
   "execution_count": null,
   "metadata": {},
   "outputs": [],
   "source": []
  }
 ],
 "metadata": {
  "kernelspec": {
   "display_name": "Python 3",
   "language": "python",
   "name": "python3"
  },
  "language_info": {
   "codemirror_mode": {
    "name": "ipython",
    "version": 3
   },
   "file_extension": ".py",
   "mimetype": "text/x-python",
   "name": "python",
   "nbconvert_exporter": "python",
   "pygments_lexer": "ipython3",
   "version": "3.6.13"
  }
 },
 "nbformat": 4,
 "nbformat_minor": 2
}
