{
 "cells": [
  {
   "cell_type": "code",
   "execution_count": 1,
   "metadata": {},
   "outputs": [],
   "source": [
    "productive_runs = ['omm_runs_1566763750', 'omm_runs_1566763758', \n",
    "                   'omm_runs_1566763760', 'omm_runs_1566763768', 'omm_runs_1566775998']\n"
   ]
  },
  {
   "cell_type": "code",
   "execution_count": 2,
   "metadata": {},
   "outputs": [],
   "source": [
    "import glob \n",
    "import os "
   ]
  },
  {
   "cell_type": "code",
   "execution_count": 11,
   "metadata": {},
   "outputs": [],
   "source": [
    "fs_path = '../fs-pep.3rd/' \n",
    "fs_omm_path = sorted(glob.glob(os.path.join(fs_path, 'omm_runs*'))) "
   ]
  },
  {
   "cell_type": "code",
   "execution_count": 19,
   "metadata": {},
   "outputs": [],
   "source": [
    "omm_length = {} \n",
    "num_long = 0 \n",
    "for omm_path in fs_omm_path: \n",
    "    log_file = os.path.join(omm_path, 'output.log') \n",
    "    omm_length[os.path.basename(omm_path)] = len(open(log_file, 'r').readlines()) \n",
    "    if len(open(log_file, 'r').readlines()) > 2000: \n",
    "        num_long += 1  \n",
    "#     print len(open(log_file, 'r').readlines())"
   ]
  },
  {
   "cell_type": "code",
   "execution_count": 16,
   "metadata": {},
   "outputs": [
    {
     "name": "stdout",
     "output_type": "stream",
     "text": [
      "\n"
     ]
    }
   ],
   "source": [
    "omm_base_name = [os.path.basename(omm_path) for omm_path in fs_omm_path]"
   ]
  },
  {
   "cell_type": "code",
   "execution_count": 20,
   "metadata": {},
   "outputs": [
    {
     "data": {
      "text/plain": [
       "120"
      ]
     },
     "execution_count": 20,
     "metadata": {},
     "output_type": "execute_result"
    }
   ],
   "source": [
    "num_long "
   ]
  },
  {
   "cell_type": "code",
   "execution_count": 25,
   "metadata": {},
   "outputs": [
    {
     "name": "stdout",
     "output_type": "stream",
     "text": [
      "Run, run_length, index, iteration, run_time(ns)\n",
      "omm_runs_1566763750 2001 70 1 100\n",
      "omm_runs_1566763758 2001 78 1 100\n",
      "omm_runs_1566763760 2001 80 1 100\n",
      "omm_runs_1566763768 2001 88 1 100\n",
      "omm_runs_1566775998 201 475 4 130\n"
     ]
    }
   ],
   "source": [
    "print 'Run, run_length, index, iteration, run_time(ns)'\n",
    "for run in productive_runs: \n",
    "    print run, omm_length[run], omm_base_name.index(run), omm_base_name.index(run)/num_long + 1, 100 + omm_base_name.index(run)/num_long * 10"
   ]
  },
  {
   "cell_type": "code",
   "execution_count": 21,
   "metadata": {},
   "outputs": [
    {
     "data": {
      "text/plain": [
       "130"
      ]
     },
     "execution_count": 21,
     "metadata": {},
     "output_type": "execute_result"
    }
   ],
   "source": [
    "100 + 10 + 10 + 10 "
   ]
  },
  {
   "cell_type": "code",
   "execution_count": null,
   "metadata": {},
   "outputs": [],
   "source": []
  }
 ],
 "metadata": {
  "kernelspec": {
   "display_name": "Python 2",
   "language": "python",
   "name": "python2"
  },
  "language_info": {
   "codemirror_mode": {
    "name": "ipython",
    "version": 2
   },
   "file_extension": ".py",
   "mimetype": "text/x-python",
   "name": "python",
   "nbconvert_exporter": "python",
   "pygments_lexer": "ipython2",
   "version": "2.7.16"
  }
 },
 "nbformat": 4,
 "nbformat_minor": 2
}
