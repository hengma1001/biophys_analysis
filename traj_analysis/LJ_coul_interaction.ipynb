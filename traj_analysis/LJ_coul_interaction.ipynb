{
 "cells": [
  {
   "cell_type": "code",
   "execution_count": 1,
   "metadata": {},
   "outputs": [],
   "source": [
    "import os\n",
    "import glob\n",
    "\n",
    "import numpy as np\n",
    "import pandas as pd\n",
    "import parmed as pmd\n",
    "import matplotlib.pyplot as plt\n",
    "\n",
    "import MDAnalysis as mda\n",
    "from tqdm import tqdm\n",
    "from numpy import linalg as LA\n",
    "from MDAnalysis.analysis import distances"
   ]
  },
  {
   "cell_type": "code",
   "execution_count": 2,
   "metadata": {},
   "outputs": [],
   "source": [
    "runs = sorted(glob.glob(\"../../traj_save/*//*.pdb\"))"
   ]
  },
  {
   "cell_type": "markdown",
   "metadata": {},
   "source": [
    "# energy calculation \n",
    "1. Lennard Jones interaction \n",
    "$$ \n",
    "\\sigma_{ij} = \\frac{1}{2}  (\\sigma_{ii} + \\sigma_{jj}) \\\\\n",
    "\\epsilon_{ij} = \\sqrt(\\epsilon_{ii} \\epsilon_{jj})  \\\\\n",
    "V_{LJ}(r_{ij}) = 4 \\epsilon_{ij} \\left[ \\left(\\frac{\\sigma_{ij}}{r_{ij}} \\right)^{12} - \\left(\\frac{\\sigma_{ij}}{r_{ij}} \\right)^{6} \\right]\n",
    "$$\n",
    "2. Coulombic interaction \n",
    "$$\n",
    "V_{C} (r_{ij}) = f \\frac{q_i q_j}{\\varepsilon_r r_{ij}} \\\\ \n",
    "f = \\frac{1}{4 \\pi \\varepsilon_0} = 139.935485 ~ kJ \\cdot mol^{-1} \\cdot nm \\cdot e^{-2}\n",
    "$$"
   ]
  },
  {
   "cell_type": "code",
   "execution_count": 49,
   "metadata": {},
   "outputs": [],
   "source": [
    "def cal_LJ(atom1, atom2, dist): \n",
    "    sigma_ij = (atom1.sigma + atom2.sigma) / 2\n",
    "    epsilon_ij = (atom1.epsilon * atom2.epsilon) ** 0.5\n",
    "    V_lj = 4 * epsilon_ij * ((sigma_ij/dist)**12 - (sigma_ij/dist)**6) \n",
    "    return V_lj\n",
    "\n",
    "\n",
    "def cal_Coul(atom1, atom2, dist): \n",
    "    f = 139.935485 \n",
    "    q_i = atom1.charge\n",
    "    q_j = atom2.charge \n",
    "    V_coul = f * q_i * q_j / dist \n",
    "    return V_coul"
   ]
  },
  {
   "cell_type": "code",
   "execution_count": 46,
   "metadata": {},
   "outputs": [],
   "source": [
    "x = np.arange(-5, 5, 0.1)\n",
    "y = np.arange(-5, 5, 0.01)\n",
    "xx, yy = np.meshgrid(x, y, sparse=True)\n",
    "z = np.sin(xx**2 + yy**2) / (xx**2 + yy**2)"
   ]
  },
  {
   "cell_type": "code",
   "execution_count": 48,
   "metadata": {},
   "outputs": [
    {
     "data": {
      "text/plain": [
       "((1, 100), (1000, 1), (1000, 100))"
      ]
     },
     "execution_count": 48,
     "metadata": {},
     "output_type": "execute_result"
    }
   ],
   "source": [
    "xx.shape, yy.shape, z.shape"
   ]
  },
  {
   "cell_type": "code",
   "execution_count": 45,
   "metadata": {},
   "outputs": [
    {
     "data": {
      "image/png": "[encoded data removed]",
      "text/plain": [
       "<Figure size 432x288 with 1 Axes>"
      ]
     },
     "metadata": {
      "needs_background": "light"
     },
     "output_type": "display_data"
    }
   ],
   "source": [
    "h = plt.contourf(x,y,z)\n",
    "plt.show()"
   ]
  },
  {
   "cell_type": "code",
   "execution_count": 42,
   "metadata": {},
   "outputs": [
    {
     "data": {
      "text/plain": [
       "(1, 100)"
      ]
     },
     "execution_count": 42,
     "metadata": {},
     "output_type": "execute_result"
    }
   ],
   "source": [
    "xx.shape"
   ]
  },
  {
   "cell_type": "code",
   "execution_count": 32,
   "metadata": {},
   "outputs": [
    {
     "data": {
      "text/plain": [
       "(<Atom O [11]; In ALA 0>, <Atom C [10]; In ALA 0>)"
      ]
     },
     "execution_count": 32,
     "metadata": {},
     "output_type": "execute_result"
    }
   ],
   "source": [
    "atom1 = top.atoms[11]\n",
    "atom2 = top.atoms[10]\n",
    "atom1, atom2"
   ]
  },
  {
   "cell_type": "code",
   "execution_count": 37,
   "metadata": {},
   "outputs": [
    {
     "data": {
      "text/plain": [
       "(-1.0, 5.0)"
      ]
     },
     "execution_count": 37,
     "metadata": {},
     "output_type": "execute_result"
    },
    {
     "data": {
      "image/png": "[encoded data removed]",
      "text/plain": [
       "<Figure size 432x288 with 1 Axes>"
      ]
     },
     "metadata": {
      "needs_background": "light"
     },
     "output_type": "display_data"
    }
   ],
   "source": [
    "dists = np.linspace(2, 8, 80)[1:]\n",
    "lj_prof = [cal_LJ(atom1, atom2, i)for i in dists]\n",
    "coul_prof = [cal_Coul(atom1, atom2, i)for i in dists] \n",
    "\n",
    "plt.plot(dists, lj_prof, label='LJ') \n",
    "plt.plot(dists, coul_prof, label='Coul')\n",
    "plt.plot(dists, np.zeros_like(dists), label='0')\n",
    "\n",
    "plt.legend()\n",
    "plt.ylim([-1, 5])\n"
   ]
  },
  {
   "cell_type": "code",
   "execution_count": 54,
   "metadata": {},
   "outputs": [
    {
     "name": "stdout",
     "output_type": "stream",
     "text": [
      "None\n"
     ]
    },
    {
     "name": "stderr",
     "output_type": "stream",
     "text": [
      "100%|██████████| 10/10 [00:00<00:00, 10.24it/s]\n"
     ]
    },
    {
     "name": "stdout",
     "output_type": "stream",
     "text": [
      "None\n"
     ]
    },
    {
     "name": "stderr",
     "output_type": "stream",
     "text": [
      "100%|██████████| 10/10 [00:00<00:00, 10.25it/s]\n"
     ]
    }
   ],
   "source": [
    "df = []\n",
    "\n",
    "for run in runs[:2]:\n",
    "    pdb_file = run\n",
    "    dcd_file = run.replace(\"pdb\", \"dcd\")\n",
    "\n",
    "    run_base = os.path.basename(run)[:-4]\n",
    "    if run.split('/')[-2] == 'Nsp10_Nsp16': \n",
    "        run_base += '_000'\n",
    "#     print(run_base)\n",
    "    top_file = f'../../traj_save/top_files/{run_base[:-4]}.top'\n",
    "    resname = run_base.split('_')[1] if len(run_base.split('_')) > 3 else None\n",
    "    print(resname)\n",
    "\n",
    "    mda_traj = mda.Universe(pdb_file, dcd_file)\n",
    "    top = pmd.load_file(top_file, xyz=pdb_file)\n",
    "\n",
    "    nsp16 = mda_traj.segments[0].atoms\n",
    "    if resname: \n",
    "        nsp16 = nsp16 + mda_traj.select_atoms(f\"resname {resname}\") \n",
    "    \n",
    "    nsp10 = mda_traj.select_atoms(\"segid B\")\n",
    "    ZN = mda_traj.select_atoms(\"resname ZN\")\n",
    "    nsp10 = nsp10 + ZN\n",
    "\n",
    "    dist_list = []\n",
    "    for ts in tqdm(mda_traj.trajectory[:10]):\n",
    "        dist_map  = distances.distance_array(\n",
    "                nsp10.positions, nsp16.positions, box = ts.dimensions) \n",
    "        \n",
    "        df.append({'sys_name': run_base,\n",
    "                    'frame': ts.frame,\n",
    "    #                    'dist_vec': dist_vec,\n",
    "                   'dist': dist_map})"
   ]
  },
  {
   "cell_type": "code",
   "execution_count": null,
   "metadata": {},
   "outputs": [],
   "source": []
  }
 ],
 "metadata": {
  "kernelspec": {
   "display_name": "Python 3",
   "language": "python",
   "name": "python3"
  },
  "language_info": {
   "codemirror_mode": {
    "name": "ipython",
    "version": 3
   },
   "file_extension": ".py",
   "mimetype": "text/x-python",
   "name": "python",
   "nbconvert_exporter": "python",
   "pygments_lexer": "ipython3",
   "version": "3.6.10"
  }
 },
 "nbformat": 4,
 "nbformat_minor": 2
}
