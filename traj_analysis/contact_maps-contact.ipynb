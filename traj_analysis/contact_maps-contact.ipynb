{
 "cells": [
  {
   "cell_type": "code",
   "execution_count": 1,
   "metadata": {},
   "outputs": [],
   "source": [
    "import os\n",
    "import sys\n",
    "import glob\n",
    "\n",
    "import numpy as np\n",
    "import pandas as pd\n",
    "import matplotlib.pyplot as plt\n",
    "\n",
    "import MDAnalysis as mda\n",
    "from MDAnalysis.analysis import distances\n",
    "from tqdm import tqdm\n",
    "from numpy import linalg as LA\n",
    "from scipy.signal import lfilter\n",
    "\n",
    "sys.path.append(\"../py_modules/\")\n",
    "\n",
    "from utils import sparse_to_full, triu_to_full"
   ]
  },
  {
   "cell_type": "code",
   "execution_count": 2,
   "metadata": {},
   "outputs": [],
   "source": [
    "runs = sorted(glob.glob(\"../../traj_save/*//*.pdb\"))"
   ]
  },
  {
   "cell_type": "code",
   "execution_count": 3,
   "metadata": {
    "scrolled": true
   },
   "outputs": [
    {
     "name": "stderr",
     "output_type": "stream",
     "text": [
      "100%|██████████| 89/89 [04:16<00:00,  2.88s/it]\n"
     ]
    }
   ],
   "source": [
    "contact_maps = []\n",
    "cutoff = 10\n",
    "for run in tqdm(runs[:]):\n",
    "    pdb_file = run\n",
    "    dcd_file = run.replace(\"pdb\", \"dcd\")\n",
    "\n",
    "    run_base = os.path.basename(run)[:-4]\n",
    "    if run.split('/')[-2] == 'Nsp10_Nsp16': \n",
    "        run_base += '_000'\n",
    "    elif run.split('/')[-2].endswith('mono'): \n",
    "        continue\n",
    "\n",
    "    mda_traj = mda.Universe(pdb_file, dcd_file)\n",
    "\n",
    "    nsp16 = mda_traj.select_atoms(\"segid A\")\n",
    "    nsp10 = mda_traj.select_atoms(\"segid B\")\n",
    "#     no_sol = mda_traj.select_atoms(\"protein\")\n",
    "#     cm_list = []\n",
    "    \n",
    "    nsp16_ca = nsp16.select_atoms('name CA') \n",
    "    nsp10_ca = nsp10.select_atoms('name CA')\n",
    "#     protein_ca = mda_traj.select_atoms('protein and name CA')\n",
    "    for ts in mda_traj.trajectory[:]:\n",
    "        cm  = (distances.distance_array(\n",
    "            nsp10_ca.positions, nsp16_ca.positions, \n",
    "#             protein_ca.positions, \n",
    "            box = ts.dimensions) < cutoff) * 1\n",
    "#         print(np.where(cm==1)[0].shape, len(cm), triu_to_full(cm).shape)\n",
    "#         print(cm.shape)\n",
    "        \n",
    "        contact_maps.append(cm)"
   ]
  },
  {
   "cell_type": "raw",
   "metadata": {},
   "source": [
    "df = pd.DataFrame(df)\n",
    "df.head()"
   ]
  },
  {
   "cell_type": "code",
   "execution_count": 4,
   "metadata": {},
   "outputs": [
    {
     "data": {
      "text/plain": [
       "(360000, 116, 299)"
      ]
     },
     "execution_count": 4,
     "metadata": {},
     "output_type": "execute_result"
    }
   ],
   "source": [
    "# contact_maps = df.contact_maps.to_numpy()\n",
    "contact_maps = np.array(contact_maps)\n",
    "contact_maps.shape"
   ]
  },
  {
   "cell_type": "code",
   "execution_count": 5,
   "metadata": {},
   "outputs": [
    {
     "data": {
      "text/plain": [
       "(360000, 116, 299)"
      ]
     },
     "execution_count": 5,
     "metadata": {},
     "output_type": "execute_result"
    }
   ],
   "source": [
    "contact_maps.shape"
   ]
  },
  {
   "cell_type": "code",
   "execution_count": 6,
   "metadata": {},
   "outputs": [
    {
     "name": "stdout",
     "output_type": "stream",
     "text": [
      "(360000, 120, 304)\n"
     ]
    }
   ],
   "source": [
    "# padding if odd dimension occurs in image\n",
    "padding = 8\n",
    "pad_f = lambda x: (0,0) if x%padding == 0 else (0,padding-x%padding)\n",
    "padding_buffer = [(0,0)]\n",
    "for x in contact_maps.shape[1:]:\n",
    "    padding_buffer.append(pad_f(x))\n",
    "contact_maps = np.pad(contact_maps, padding_buffer, mode='constant')\n",
    "print(contact_maps.shape)"
   ]
  },
  {
   "cell_type": "code",
   "execution_count": 7,
   "metadata": {},
   "outputs": [],
   "source": [
    "contact_maps = contact_maps.reshape((contact_maps.shape) + (1,))"
   ]
  },
  {
   "cell_type": "code",
   "execution_count": 9,
   "metadata": {},
   "outputs": [],
   "source": [
    "import h5py \n",
    "\n",
    "h5_file = './' + f\"/cvae_input_contact.h5\"\n",
    "cm_h5 = h5py.File(h5_file, 'w')\n",
    "cm_h5.create_dataset('contact_maps', data=contact_maps)\n",
    "# cm_h5.create_dataset('rmsd', data=rmsd_profs)\n",
    "cm_h5.close()"
   ]
  },
  {
   "cell_type": "code",
   "execution_count": 9,
   "metadata": {},
   "outputs": [],
   "source": [
    "df.to_pickle('cm_nsp10-16.pkl')"
   ]
  },
  {
   "cell_type": "code",
   "execution_count": 15,
   "metadata": {},
   "outputs": [
    {
     "data": {
      "text/plain": [
       "[<matplotlib.lines.Line2D at 0x7feab1ff2320>]"
      ]
     },
     "execution_count": 15,
     "metadata": {},
     "output_type": "execute_result"
    },
    {
     "data": {
      "image/png": "[encoded data removed]",
      "text/plain": [
       "<Figure size 432x288 with 1 Axes>"
      ]
     },
     "metadata": {
      "needs_background": "light"
     },
     "output_type": "display_data"
    }
   ],
   "source": [
    "plt.plot(df[df['sys_name'] == 'comp_rna7jyy_072']['dist'].item())"
   ]
  },
  {
   "cell_type": "code",
   "execution_count": null,
   "metadata": {},
   "outputs": [],
   "source": []
  }
 ],
 "metadata": {
  "kernelspec": {
   "display_name": "Python 3",
   "language": "python",
   "name": "python3"
  },
  "language_info": {
   "codemirror_mode": {
    "name": "ipython",
    "version": 3
   },
   "file_extension": ".py",
   "mimetype": "text/x-python",
   "name": "python",
   "nbconvert_exporter": "python",
   "pygments_lexer": "ipython3",
   "version": "3.6.10"
  }
 },
 "nbformat": 4,
 "nbformat_minor": 2
}
