{
 "cells": [
  {
   "cell_type": "code",
   "execution_count": 1,
   "metadata": {},
   "outputs": [],
   "source": [
    "import os \n",
    "import sys\n",
    "import glob\n",
    "import time\n",
    "from tqdm import tqdm\n",
    "\n",
    "import numpy as np \n",
    "import pandas as pd\n",
    "import matplotlib.pyplot as plt \n",
    "\n",
    "import MDAnalysis as mda\n",
    "from MDAnalysis.analysis import distances\n",
    "from MDAnalysis.analysis.rms import RMSD"
   ]
  },
  {
   "cell_type": "code",
   "execution_count": 2,
   "metadata": {},
   "outputs": [],
   "source": [
    "runs = sorted(glob.glob(\"../../traj_save/*/*pdb\"))"
   ]
  },
  {
   "cell_type": "code",
   "execution_count": 3,
   "metadata": {
    "scrolled": true
   },
   "outputs": [
    {
     "name": "stderr",
     "output_type": "stream",
     "text": [
      " 11%|█▏        | 12/106 [00:51<06:48,  4.34s/it]/homes/heng.ma/miniconda3/envs/MD_ff/lib/python3.6/site-packages/MDAnalysis/analysis/rms.py:255: RuntimeWarning: invalid value encountered in double_scalars\n",
      "  return np.sqrt(np.sum((a - b) ** 2) / N)\n",
      "100%|██████████| 106/106 [04:38<00:00,  2.63s/it]\n"
     ]
    }
   ],
   "source": [
    "df = []\n",
    "\n",
    "for run in tqdm(runs):\n",
    "    pdb_file = run\n",
    "    dcd_file = run.replace(\"pdb\", \"dcd\")\n",
    "    ref_pdb = pdb_file # [:-7] + '000.pdb'\n",
    "#     print(ref_pdb)\n",
    "#     continue\n",
    "\n",
    "    run_base = os.path.basename(run)[:-4]\n",
    "#     run_label = run_base.split(\"_\")[2]\n",
    "    \n",
    "    mda_traj = mda.Universe(pdb_file, dcd_file)\n",
    "    ref_traj = mda.Universe(ref_pdb)\n",
    "    \n",
    "    rmsd_inst = RMSD(\n",
    "            mda_traj, ref_traj,\n",
    "            select='protein and name CA',\n",
    "            groupselections=[\n",
    "                    \"protein and name CA and segid B\",   # CORE\n",
    "                    \"protein and name CA and segid A\",                                   # LID\n",
    "                    ],\n",
    "            # verbose=1\n",
    "                    )\n",
    "    rmsd_inst.run()\n",
    "        \n",
    "    df.append({'sys_name': run_base,\n",
    "               'time_frame': rmsd_inst.rmsd[:,1],\n",
    "               'rmsd_all': rmsd_inst.rmsd[:,2], \n",
    "               'rmsd_nsp10': rmsd_inst.rmsd[:,3], \n",
    "               'rmsd_nsp16': rmsd_inst.rmsd[:,4]})"
   ]
  },
  {
   "cell_type": "code",
   "execution_count": 4,
   "metadata": {},
   "outputs": [
    {
     "data": {
      "text/html": [
       "<div>\n",
       "<style scoped>\n",
       "    .dataframe tbody tr th:only-of-type {\n",
       "        vertical-align: middle;\n",
       "    }\n",
       "\n",
       "    .dataframe tbody tr th {\n",
       "        vertical-align: top;\n",
       "    }\n",
       "\n",
       "    .dataframe thead th {\n",
       "        text-align: right;\n",
       "    }\n",
       "</style>\n",
       "<table border=\"1\" class=\"dataframe\">\n",
       "  <thead>\n",
       "    <tr style=\"text-align: right;\">\n",
       "      <th></th>\n",
       "      <th>sys_name</th>\n",
       "      <th>time_frame</th>\n",
       "      <th>rmsd_all</th>\n",
       "      <th>rmsd_nsp10</th>\n",
       "      <th>rmsd_nsp16</th>\n",
       "    </tr>\n",
       "  </thead>\n",
       "  <tbody>\n",
       "    <tr>\n",
       "      <th>0</th>\n",
       "      <td>comp_0</td>\n",
       "      <td>[0.0, 1.0000000328495406, 2.0000000656990813, ...</td>\n",
       "      <td>[0.0005033500343547033, 1.128382942405615, 1.1...</td>\n",
       "      <td>[0.000508360874832082, 1.4329209931079394, 1.6...</td>\n",
       "      <td>[0.0005014563430159343, 0.9852074835504431, 0....</td>\n",
       "    </tr>\n",
       "    <tr>\n",
       "      <th>1</th>\n",
       "      <td>comp_1</td>\n",
       "      <td>[0.0, 1.0000000328495406, 2.0000000656990813, ...</td>\n",
       "      <td>[0.0005018848402518594, 0.9914718976681515, 1....</td>\n",
       "      <td>[0.0005055609301283358, 1.2652129825936829, 1....</td>\n",
       "      <td>[0.0005005624808340656, 0.8621805325663472, 0....</td>\n",
       "    </tr>\n",
       "    <tr>\n",
       "      <th>2</th>\n",
       "      <td>comp_2</td>\n",
       "      <td>[0.0, 1.0000000328495406, 2.0000000656990813, ...</td>\n",
       "      <td>[0.0004995165125159671, 1.0053374442466876, 1....</td>\n",
       "      <td>[0.0005036704968548937, 1.188780600891894, 1.3...</td>\n",
       "      <td>[0.000497981015218141, 0.9244193827179352, 1.1...</td>\n",
       "    </tr>\n",
       "    <tr>\n",
       "      <th>3</th>\n",
       "      <td>comp_sah_0</td>\n",
       "      <td>[0.0, 1.0000000328495406, 2.0000000656990813, ...</td>\n",
       "      <td>[0.0004911495038199802, 1.0124807557771016, 1....</td>\n",
       "      <td>[0.00048357470470672826, 1.1705811276657037, 1...</td>\n",
       "      <td>[0.0004939909070037616, 0.9440421327698263, 0....</td>\n",
       "    </tr>\n",
       "    <tr>\n",
       "      <th>4</th>\n",
       "      <td>comp_sah_1</td>\n",
       "      <td>[0.0, 1.0000000328495406, 2.0000000656990813, ...</td>\n",
       "      <td>[0.000494302682957947, 1.0588426217448117, 1.1...</td>\n",
       "      <td>[0.0005172342423416062, 1.4291491339915676, 1....</td>\n",
       "      <td>[0.0004851089083457245, 0.8739067258251104, 1....</td>\n",
       "    </tr>\n",
       "  </tbody>\n",
       "</table>\n",
       "</div>"
      ],
      "text/plain": [
       "     sys_name                                         time_frame  \\\n",
       "0      comp_0  [0.0, 1.0000000328495406, 2.0000000656990813, ...   \n",
       "1      comp_1  [0.0, 1.0000000328495406, 2.0000000656990813, ...   \n",
       "2      comp_2  [0.0, 1.0000000328495406, 2.0000000656990813, ...   \n",
       "3  comp_sah_0  [0.0, 1.0000000328495406, 2.0000000656990813, ...   \n",
       "4  comp_sah_1  [0.0, 1.0000000328495406, 2.0000000656990813, ...   \n",
       "\n",
       "                                            rmsd_all  \\\n",
       "0  [0.0005033500343547033, 1.128382942405615, 1.1...   \n",
       "1  [0.0005018848402518594, 0.9914718976681515, 1....   \n",
       "2  [0.0004995165125159671, 1.0053374442466876, 1....   \n",
       "3  [0.0004911495038199802, 1.0124807557771016, 1....   \n",
       "4  [0.000494302682957947, 1.0588426217448117, 1.1...   \n",
       "\n",
       "                                          rmsd_nsp10  \\\n",
       "0  [0.000508360874832082, 1.4329209931079394, 1.6...   \n",
       "1  [0.0005055609301283358, 1.2652129825936829, 1....   \n",
       "2  [0.0005036704968548937, 1.188780600891894, 1.3...   \n",
       "3  [0.00048357470470672826, 1.1705811276657037, 1...   \n",
       "4  [0.0005172342423416062, 1.4291491339915676, 1....   \n",
       "\n",
       "                                          rmsd_nsp16  \n",
       "0  [0.0005014563430159343, 0.9852074835504431, 0....  \n",
       "1  [0.0005005624808340656, 0.8621805325663472, 0....  \n",
       "2  [0.000497981015218141, 0.9244193827179352, 1.1...  \n",
       "3  [0.0004939909070037616, 0.9440421327698263, 0....  \n",
       "4  [0.0004851089083457245, 0.8739067258251104, 1....  "
      ]
     },
     "execution_count": 4,
     "metadata": {},
     "output_type": "execute_result"
    }
   ],
   "source": [
    "df = pd.DataFrame(df)\n",
    "df.head()"
   ]
  },
  {
   "cell_type": "code",
   "execution_count": 5,
   "metadata": {},
   "outputs": [],
   "source": [
    "df.to_pickle('rmsd_nsp10-16_all.pkl')"
   ]
  }
 ],
 "metadata": {
  "kernelspec": {
   "display_name": "Python 3",
   "language": "python",
   "name": "python3"
  },
  "language_info": {
   "codemirror_mode": {
    "name": "ipython",
    "version": 3
   },
   "file_extension": ".py",
   "mimetype": "text/x-python",
   "name": "python",
   "nbconvert_exporter": "python",
   "pygments_lexer": "ipython3",
   "version": "3.6.13"
  }
 },
 "nbformat": 4,
 "nbformat_minor": 2
}
