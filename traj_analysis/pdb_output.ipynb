{
 "cells": [
  {
   "cell_type": "code",
   "execution_count": 2,
   "id": "bound-sample",
   "metadata": {},
   "outputs": [],
   "source": [
    "import os \n",
    "import glob \n",
    "import shutil\n",
    "import MDAnalysis as mda"
   ]
  },
  {
   "cell_type": "code",
   "execution_count": 3,
   "id": "tutorial-leather",
   "metadata": {},
   "outputs": [
    {
     "data": {
      "text/plain": [
       "['../../traj_save/Nsp10_Nsp16/comp_sam.pdb',\n",
       " '../../traj_save/Nsp10_Nsp16/comp_sah.pdb',\n",
       " '../../traj_save/Nsp10_Nsp16/comp.pdb',\n",
       " '../../traj_save/Nsp10_Nsp16/comp_sfg.pdb',\n",
       " '../../traj_save/Nsp10_Nsp16_mono/nsp10_0.pdb',\n",
       " '../../traj_save/Nsp10_Nsp16_mono/nsp16_0.pdb',\n",
       " '../../traj_save/Nsp10_Nsp16_mono/nsp16_sah_0.pdb',\n",
       " '../../traj_save/Nsp10_Nsp16_mono/nsp16_sam_0.pdb',\n",
       " '../../traj_save/Nsp10_Nsp16_mono/nsp16_sfg_0.pdb',\n",
       " '../../traj_save/Nsp10_Nsp16_mono/nsp10_1.pdb',\n",
       " '../../traj_save/Nsp10_Nsp16_mono/nsp16_1.pdb',\n",
       " '../../traj_save/Nsp10_Nsp16_mono/nsp16_sam_1.pdb',\n",
       " '../../traj_save/Nsp10_Nsp16_mono/nsp16_sfg_1.pdb']"
      ]
     },
     "execution_count": 3,
     "metadata": {},
     "output_type": "execute_result"
    }
   ],
   "source": [
    "pdbs = glob.glob('../../traj_save/Nsp10_Nsp16*/*pdb')\n",
    "pdbs"
   ]
  },
  {
   "cell_type": "code",
   "execution_count": 5,
   "id": "cubic-compound",
   "metadata": {},
   "outputs": [],
   "source": [
    "pdb_save = 'pdb_save_1'\n",
    "os.makedirs(pdb_save)"
   ]
  },
  {
   "cell_type": "code",
   "execution_count": 6,
   "id": "missing-inflation",
   "metadata": {},
   "outputs": [],
   "source": [
    "for pdb in pdbs: \n",
    "    shutil.copy2(pdb, pdb_save)\n",
    "    dcd = pdb.replace('.pdb', '.dcd')\n",
    "    \n",
    "    mda_u = mda.Universe(pdb, dcd)\n",
    "    mda_u.trajectory[-1] \n",
    "    \n",
    "    pdb_name = os.path.basename(pdb)[:-4] + '_-1.pdb'\n",
    "    pdb_name = pdb_save + f'/{pdb_name}'\n",
    "    mda_u.atoms.write(pdb_name)"
   ]
  },
  {
   "cell_type": "code",
   "execution_count": 5,
   "id": "cordless-equilibrium",
   "metadata": {},
   "outputs": [
    {
     "data": {
      "text/plain": [
       "['comp_sfg_095', '3500']"
      ]
     },
     "execution_count": 5,
     "metadata": {},
     "output_type": "execute_result"
    }
   ],
   "source": [
    "['comp_sfg_095', '3500']"
   ]
  },
  {
   "cell_type": "code",
   "execution_count": 6,
   "id": "modern-sapphire",
   "metadata": {},
   "outputs": [],
   "source": [
    "traj_dir = '../../traj_save/'\n",
    "def get_pdb_path(sys_name): \n",
    "    lig_name = sys_name.split('_')[1] if len(sys_name.split('_')) == 3 else None\n",
    "    lig_dir = 'nsp10_16_dist' + f'_{lig_name}' if lig_name else 'nsp10_16_dist'\n",
    "    pdb_file = f'{traj_dir}/{lig_dir}/{sys_name}.pdb'\n",
    "    if os.path.exists(pdb_file): \n",
    "        return pdb_file\n",
    "    else: \n",
    "        raise(\"Mising file\")\n",
    "    "
   ]
  },
  {
   "cell_type": "code",
   "execution_count": 7,
   "id": "desperate-drunk",
   "metadata": {},
   "outputs": [],
   "source": [
    "def write_pdb_file(sys_name, frame:int): \n",
    "    pdb = get_pdb_path(sys_name) \n",
    "    dcd = pdb.replace('.pdb', '.dcd')\n",
    "    \n",
    "    mda_u = mda.Universe(pdb, dcd)\n",
    "    mda_u.trajectory[frame] \n",
    "    \n",
    "    pdb_name = f'{sys_name}_{frame:05}.pdb'\n",
    "    pdb_name = pdb_save + f'/{pdb_name}'\n",
    "    mda_u.atoms.write(pdb_name)"
   ]
  },
  {
   "cell_type": "code",
   "execution_count": 8,
   "id": "stretch-virginia",
   "metadata": {},
   "outputs": [],
   "source": [
    "output_pdbs = [['comp_sfg_095', 3500], ['comp_sam_095', 533], ['comp_sah_065', 3699],]"
   ]
  },
  {
   "cell_type": "code",
   "execution_count": 9,
   "id": "bright-veteran",
   "metadata": {},
   "outputs": [],
   "source": [
    "for i in output_pdbs: \n",
    "#     print(i)\n",
    "    write_pdb_file(*i)"
   ]
  },
  {
   "cell_type": "code",
   "execution_count": null,
   "id": "greenhouse-architect",
   "metadata": {},
   "outputs": [],
   "source": []
  }
 ],
 "metadata": {
  "kernelspec": {
   "display_name": "Python 3",
   "language": "python",
   "name": "python3"
  },
  "language_info": {
   "codemirror_mode": {
    "name": "ipython",
    "version": 3
   },
   "file_extension": ".py",
   "mimetype": "text/x-python",
   "name": "python",
   "nbconvert_exporter": "python",
   "pygments_lexer": "ipython3",
   "version": "3.6.10"
  }
 },
 "nbformat": 4,
 "nbformat_minor": 5
}
