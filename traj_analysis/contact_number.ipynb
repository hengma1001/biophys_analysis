{
 "cells": [
  {
   "cell_type": "code",
   "execution_count": 1,
   "metadata": {},
   "outputs": [],
   "source": [
    "import os\n",
    "import sys\n",
    "import glob\n",
    "\n",
    "import numpy as np\n",
    "import pandas as pd\n",
    "import matplotlib.pyplot as plt\n",
    "\n",
    "import MDAnalysis as mda\n",
    "from MDAnalysis.analysis import distances\n",
    "from tqdm import tqdm\n",
    "from numpy import linalg as LA"
   ]
  },
  {
   "cell_type": "code",
   "execution_count": 2,
   "metadata": {},
   "outputs": [],
   "source": [
    "pdbs = glob.glob('../../md_setups_a99/input_comp*')"
   ]
  },
  {
   "cell_type": "code",
   "execution_count": 3,
   "metadata": {},
   "outputs": [
    {
     "name": "stderr",
     "output_type": "stream",
     "text": [
      "/homes/heng.ma/miniconda3/envs/MD_ff/lib/python3.6/site-packages/MDAnalysis/topology/guessers.py:80: UserWarning: Failed to guess the mass for the following atom types: Z\n",
      "  warnings.warn(\"Failed to guess the mass for the following atom types: {}\".format(atom_type))\n",
      "/homes/heng.ma/miniconda3/envs/MD_ff/lib/python3.6/site-packages/MDAnalysis/topology/PDBParser.py:327: UserWarning: Invalid elements found in the PDB file, elements attributes will not be populated.\n",
      "  warnings.warn(\"Invalid elements found in the PDB file, \"\n",
      "/homes/heng.ma/miniconda3/envs/MD_ff/lib/python3.6/site-packages/MDAnalysis/topology/guessers.py:80: UserWarning: Failed to guess the mass for the following atom types: \n",
      "  warnings.warn(\"Failed to guess the mass for the following atom types: {}\".format(atom_type))\n",
      "/homes/heng.ma/miniconda3/envs/MD_ff/lib/python3.6/site-packages/MDAnalysis/topology/PDBParser.py:330: UserWarning: Element information is absent or missing for a few atoms. Elements attributes will not be populated.\n",
      "  warnings.warn(\"Element information is absent or missing for a few \"\n"
     ]
    },
    {
     "name": "stdout",
     "output_type": "stream",
     "text": [
      "comp.pdb 162\n",
      "comp_sah.pdb 162\n",
      "comp_sam.pdb 162\n",
      "comp_sfg.pdb 162\n"
     ]
    }
   ],
   "source": [
    "for pdb in pdbs: \n",
    "    pdb = pdb + f\"/{os.path.basename(pdb).replace('input_', '')}.pdb\"\n",
    "    mda_traj = mda.Universe(pdb)\n",
    "\n",
    "    nsp16 = mda_traj.select_atoms(\"segid A\")\n",
    "    nsp10 = mda_traj.select_atoms(\"segid B\")\n",
    "    #     no_sol = mda_traj.select_atoms(\"protein\")\n",
    "    #     cm_list = []\n",
    "\n",
    "    nsp16_ca = nsp16.select_atoms('name CA') \n",
    "    nsp10_ca = nsp10.select_atoms('name CA')\n",
    "\n",
    "    cm  = (distances.distance_array(\n",
    "        nsp10_ca.positions, nsp16_ca.positions, \n",
    "        box = nsp10_ca.dimensions) < 10) * 1\n",
    "\n",
    "    print(os.path.basename(pdb), np.sum(cm==1))"
   ]
  },
  {
   "cell_type": "code",
   "execution_count": 6,
   "metadata": {},
   "outputs": [
    {
     "data": {
      "text/plain": [
       "<matplotlib.image.AxesImage at 0x7fea40eef080>"
      ]
     },
     "execution_count": 6,
     "metadata": {},
     "output_type": "execute_result"
    },
    {
     "data": {
      "image/png": "[encoded data removed]",
      "text/plain": [
       "<Figure size 432x288 with 1 Axes>"
      ]
     },
     "metadata": {
      "needs_background": "light"
     },
     "output_type": "display_data"
    }
   ],
   "source": [
    "plt.imshow(cm)"
   ]
  },
  {
   "cell_type": "code",
   "execution_count": 2,
   "metadata": {},
   "outputs": [],
   "source": [
    "runs = sorted(glob.glob(\"../../traj_save/*//*.pdb\"))"
   ]
  },
  {
   "cell_type": "code",
   "execution_count": 9,
   "metadata": {},
   "outputs": [
    {
     "name": "stderr",
     "output_type": "stream",
     "text": [
      "  1%|          | 1/107 [00:05<09:29,  5.37s/it]"
     ]
    },
    {
     "name": "stdout",
     "output_type": "stream",
     "text": [
      "Skipped comp_1\n",
      "Skipped comp_2\n"
     ]
    },
    {
     "name": "stderr",
     "output_type": "stream",
     "text": [
      "\r",
      "  4%|▎         | 4/107 [00:11<04:43,  2.75s/it]"
     ]
    },
    {
     "name": "stdout",
     "output_type": "stream",
     "text": [
      "Skipped comp_sah_1\n",
      "Skipped comp_sah_2\n"
     ]
    },
    {
     "name": "stderr",
     "output_type": "stream",
     "text": [
      "\r",
      "  7%|▋         | 7/107 [00:18<04:03,  2.44s/it]"
     ]
    },
    {
     "name": "stdout",
     "output_type": "stream",
     "text": [
      "Skipped comp_sam_1\n",
      "Skipped comp_sam_2\n"
     ]
    },
    {
     "name": "stderr",
     "output_type": "stream",
     "text": [
      "\r",
      "  9%|▉         | 10/107 [00:24<03:44,  2.31s/it]"
     ]
    },
    {
     "name": "stdout",
     "output_type": "stream",
     "text": [
      "Skipped comp_sfg_1\n",
      "Skipped comp_sfg_2\n"
     ]
    },
    {
     "name": "stderr",
     "output_type": "stream",
     "text": [
      "100%|██████████| 107/107 [03:58<00:00,  2.23s/it]\n"
     ]
    }
   ],
   "source": [
    "df = []\n",
    "cutoff = 10\n",
    "\n",
    "for run in tqdm(runs[:]):\n",
    "    pdb_file = run\n",
    "    dcd_file = run.replace(\"pdb\", \"dcd\")\n",
    "\n",
    "    run_base = os.path.basename(run)[:-4]\n",
    "    if run.split('/')[-2] == 'Nsp10_Nsp16': \n",
    "        if run_base.endswith('_0'): \n",
    "            run_base += '_000'\n",
    "        else: \n",
    "            print(f'Skipped {run_base}')\n",
    "            continue\n",
    "    elif run.split('/')[-2].endswith('mono'): \n",
    "        continue\n",
    "\n",
    "    mda_traj = mda.Universe(pdb_file, dcd_file)\n",
    "\n",
    "    nsp16 = mda_traj.select_atoms(\"segid A\")\n",
    "    nsp10 = mda_traj.select_atoms(\"segid B\")\n",
    "#     no_sol = mda_traj.select_atoms(\"protein\")\n",
    "#     cm_list = []\n",
    "    \n",
    "    nsp16_ca = nsp16.select_atoms('name CA') \n",
    "    nsp10_ca = nsp10.select_atoms('name CA')\n",
    "#     protein_ca = mda_traj.select_atoms('protein and name CA')\n",
    "    for ts in mda_traj.trajectory[:]:\n",
    "        cm  = (distances.distance_array(\n",
    "            nsp10_ca.positions, nsp16_ca.positions, \n",
    "            box = ts.dimensions) < cutoff) * 1\n",
    "        df.append({\n",
    "            'sys_name': run_base,\n",
    "            'frame': ts.frame,\n",
    "            'n_contacts': np.sum(cm==1)})"
   ]
  },
  {
   "cell_type": "code",
   "execution_count": 11,
   "metadata": {},
   "outputs": [
    {
     "data": {
      "text/html": [
       "<div>\n",
       "<style scoped>\n",
       "    .dataframe tbody tr th:only-of-type {\n",
       "        vertical-align: middle;\n",
       "    }\n",
       "\n",
       "    .dataframe tbody tr th {\n",
       "        vertical-align: top;\n",
       "    }\n",
       "\n",
       "    .dataframe thead th {\n",
       "        text-align: right;\n",
       "    }\n",
       "</style>\n",
       "<table border=\"1\" class=\"dataframe\">\n",
       "  <thead>\n",
       "    <tr style=\"text-align: right;\">\n",
       "      <th></th>\n",
       "      <th>sys_name</th>\n",
       "      <th>frame</th>\n",
       "      <th>n_contacts</th>\n",
       "    </tr>\n",
       "  </thead>\n",
       "  <tbody>\n",
       "    <tr>\n",
       "      <th>0</th>\n",
       "      <td>comp_0_000</td>\n",
       "      <td>0</td>\n",
       "      <td>143</td>\n",
       "    </tr>\n",
       "    <tr>\n",
       "      <th>1</th>\n",
       "      <td>comp_0_000</td>\n",
       "      <td>1</td>\n",
       "      <td>144</td>\n",
       "    </tr>\n",
       "    <tr>\n",
       "      <th>2</th>\n",
       "      <td>comp_0_000</td>\n",
       "      <td>2</td>\n",
       "      <td>156</td>\n",
       "    </tr>\n",
       "    <tr>\n",
       "      <th>3</th>\n",
       "      <td>comp_0_000</td>\n",
       "      <td>3</td>\n",
       "      <td>149</td>\n",
       "    </tr>\n",
       "    <tr>\n",
       "      <th>4</th>\n",
       "      <td>comp_0_000</td>\n",
       "      <td>4</td>\n",
       "      <td>157</td>\n",
       "    </tr>\n",
       "  </tbody>\n",
       "</table>\n",
       "</div>"
      ],
      "text/plain": [
       "     sys_name  frame  n_contacts\n",
       "0  comp_0_000      0         143\n",
       "1  comp_0_000      1         144\n",
       "2  comp_0_000      2         156\n",
       "3  comp_0_000      3         149\n",
       "4  comp_0_000      4         157"
      ]
     },
     "execution_count": 11,
     "metadata": {},
     "output_type": "execute_result"
    }
   ],
   "source": [
    "df = pd.DataFrame(df)\n",
    "df.head()"
   ]
  },
  {
   "cell_type": "code",
   "execution_count": 12,
   "metadata": {},
   "outputs": [
    {
     "data": {
      "text/html": [
       "<div>\n",
       "<style scoped>\n",
       "    .dataframe tbody tr th:only-of-type {\n",
       "        vertical-align: middle;\n",
       "    }\n",
       "\n",
       "    .dataframe tbody tr th {\n",
       "        vertical-align: top;\n",
       "    }\n",
       "\n",
       "    .dataframe thead th {\n",
       "        text-align: right;\n",
       "    }\n",
       "</style>\n",
       "<table border=\"1\" class=\"dataframe\">\n",
       "  <thead>\n",
       "    <tr style=\"text-align: right;\">\n",
       "      <th></th>\n",
       "      <th>sys_name</th>\n",
       "      <th>frame</th>\n",
       "      <th>n_contacts</th>\n",
       "    </tr>\n",
       "  </thead>\n",
       "  <tbody>\n",
       "    <tr>\n",
       "      <th>0</th>\n",
       "      <td>comp_0_000</td>\n",
       "      <td>0</td>\n",
       "      <td>143</td>\n",
       "    </tr>\n",
       "    <tr>\n",
       "      <th>1</th>\n",
       "      <td>comp_0_000</td>\n",
       "      <td>1</td>\n",
       "      <td>144</td>\n",
       "    </tr>\n",
       "    <tr>\n",
       "      <th>2</th>\n",
       "      <td>comp_0_000</td>\n",
       "      <td>2</td>\n",
       "      <td>156</td>\n",
       "    </tr>\n",
       "    <tr>\n",
       "      <th>3</th>\n",
       "      <td>comp_0_000</td>\n",
       "      <td>3</td>\n",
       "      <td>149</td>\n",
       "    </tr>\n",
       "    <tr>\n",
       "      <th>4</th>\n",
       "      <td>comp_0_000</td>\n",
       "      <td>4</td>\n",
       "      <td>157</td>\n",
       "    </tr>\n",
       "    <tr>\n",
       "      <th>...</th>\n",
       "      <td>...</td>\n",
       "      <td>...</td>\n",
       "      <td>...</td>\n",
       "    </tr>\n",
       "    <tr>\n",
       "      <th>359995</th>\n",
       "      <td>comp_sfg_100</td>\n",
       "      <td>3995</td>\n",
       "      <td>63</td>\n",
       "    </tr>\n",
       "    <tr>\n",
       "      <th>359996</th>\n",
       "      <td>comp_sfg_100</td>\n",
       "      <td>3996</td>\n",
       "      <td>60</td>\n",
       "    </tr>\n",
       "    <tr>\n",
       "      <th>359997</th>\n",
       "      <td>comp_sfg_100</td>\n",
       "      <td>3997</td>\n",
       "      <td>64</td>\n",
       "    </tr>\n",
       "    <tr>\n",
       "      <th>359998</th>\n",
       "      <td>comp_sfg_100</td>\n",
       "      <td>3998</td>\n",
       "      <td>71</td>\n",
       "    </tr>\n",
       "    <tr>\n",
       "      <th>359999</th>\n",
       "      <td>comp_sfg_100</td>\n",
       "      <td>3999</td>\n",
       "      <td>76</td>\n",
       "    </tr>\n",
       "  </tbody>\n",
       "</table>\n",
       "<p>360000 rows × 3 columns</p>\n",
       "</div>"
      ],
      "text/plain": [
       "            sys_name  frame  n_contacts\n",
       "0         comp_0_000      0         143\n",
       "1         comp_0_000      1         144\n",
       "2         comp_0_000      2         156\n",
       "3         comp_0_000      3         149\n",
       "4         comp_0_000      4         157\n",
       "...              ...    ...         ...\n",
       "359995  comp_sfg_100   3995          63\n",
       "359996  comp_sfg_100   3996          60\n",
       "359997  comp_sfg_100   3997          64\n",
       "359998  comp_sfg_100   3998          71\n",
       "359999  comp_sfg_100   3999          76\n",
       "\n",
       "[360000 rows x 3 columns]"
      ]
     },
     "execution_count": 12,
     "metadata": {},
     "output_type": "execute_result"
    }
   ],
   "source": [
    "df"
   ]
  },
  {
   "cell_type": "code",
   "execution_count": 14,
   "metadata": {},
   "outputs": [],
   "source": [
    "df.to_pickle('n_contacts_nsp10-16.pkl')"
   ]
  },
  {
   "cell_type": "code",
   "execution_count": null,
   "metadata": {},
   "outputs": [],
   "source": []
  }
 ],
 "metadata": {
  "kernelspec": {
   "display_name": "Python 3",
   "language": "python",
   "name": "python3"
  },
  "language_info": {
   "codemirror_mode": {
    "name": "ipython",
    "version": 3
   },
   "file_extension": ".py",
   "mimetype": "text/x-python",
   "name": "python",
   "nbconvert_exporter": "python",
   "pygments_lexer": "ipython3",
   "version": "3.6.13"
  }
 },
 "nbformat": 4,
 "nbformat_minor": 2
}
