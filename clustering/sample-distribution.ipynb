{
 "cells": [
  {
   "cell_type": "code",
   "execution_count": 1,
   "metadata": {},
   "outputs": [],
   "source": [
    "import os \n",
    "import pandas as pd \n",
    "import numpy as np \n",
    "import matplotlib.pyplot as plt \n",
    "from numpy import linalg as LA"
   ]
  },
  {
   "cell_type": "code",
   "execution_count": 2,
   "metadata": {},
   "outputs": [],
   "source": [
    "from tqdm import tqdm"
   ]
  },
  {
   "cell_type": "code",
   "execution_count": 3,
   "metadata": {},
   "outputs": [],
   "source": [
    "import MDAnalysis as mda "
   ]
  },
  {
   "cell_type": "code",
   "execution_count": 4,
   "metadata": {},
   "outputs": [],
   "source": [
    "pdb_file = '../../../../covid19/Nsp10_Nsp16/md_runs/run_comp/no_sol.pdb' \n",
    "dcd_file = '../../../../covid19/Nsp10_Nsp16/md_runs/run_comp/no_sol.dcd' "
   ]
  },
  {
   "cell_type": "code",
   "execution_count": 5,
   "metadata": {},
   "outputs": [],
   "source": [
    "mda_u = mda.Universe(pdb_file, dcd_file)"
   ]
  },
  {
   "cell_type": "code",
   "execution_count": 6,
   "metadata": {},
   "outputs": [
    {
     "name": "stderr",
     "output_type": "stream",
     "text": [
      "100%|██████████| 100/100 [00:00<00:00, 447.53it/s]\n"
     ]
    }
   ],
   "source": [
    "nsp16 = mda_u.segments[0].atoms\n",
    "nsp10 = mda_u.segments[1].atoms\n",
    "no_sol = mda_u.select_atoms(\"protein\")\n",
    "dist_list = []\n",
    "for ts in tqdm(mda_u.trajectory[:100]):\n",
    "    box_edge = ts.dimensions[0]\n",
    "    box_center = box_edge / 2\n",
    "    trans_vec = box_center - np.array(nsp16.center_of_mass())\n",
    "    no_sol.atoms.translate(trans_vec).wrap()\n",
    "    trans_vec = box_center - np.array(no_sol.center_of_mass())\n",
    "    no_sol.atoms.translate(trans_vec).wrap()\n",
    "    dist_vec = nsp10.center_of_mass() - nsp16.center_of_mass()\n",
    "    dist = LA.norm(dist_vec)\n",
    "\n",
    "    dist_list += [dist]"
   ]
  },
  {
   "cell_type": "code",
   "execution_count": 7,
   "metadata": {},
   "outputs": [
    {
     "data": {
      "image/png": "[encoded data removed]",
      "text/plain": [
       "<Figure size 432x288 with 1 Axes>"
      ]
     },
     "metadata": {
      "needs_background": "light"
     },
     "output_type": "display_data"
    }
   ],
   "source": [
    "_ = plt.hist(dist_list - min(dist_list), bins=100)"
   ]
  },
  {
   "cell_type": "code",
   "execution_count": 8,
   "metadata": {},
   "outputs": [
    {
     "data": {
      "text/plain": [
       "31.85006427236185"
      ]
     },
     "execution_count": 8,
     "metadata": {},
     "output_type": "execute_result"
    }
   ],
   "source": [
    "dist_0 = dist_list[0]\n",
    "dist_0"
   ]
  },
  {
   "cell_type": "code",
   "execution_count": 21,
   "metadata": {},
   "outputs": [
    {
     "name": "stdout",
     "output_type": "stream",
     "text": [
      "81506 29.110659715792877 59.62666586439712\n",
      "60190 18.010266211732034 69.05795279367808\n"
     ]
    },
    {
     "data": {
      "text/plain": [
       "<matplotlib.legend.Legend at 0x7fa5e821cd68>"
      ]
     },
     "execution_count": 21,
     "metadata": {},
     "output_type": "execute_result"
    },
    {
     "data": {
      "image/png": "[encoded data removed]",
      "text/plain": [
       "<Figure size 432x432 with 1 Axes>"
      ]
     },
     "metadata": {
      "needs_background": "light"
     },
     "output_type": "display_data"
    }
   ],
   "source": [
    "fig, ax = plt.subplots(figsize=(6, 6))\n",
    "dist = np.load(\"../../../nsp10_16/dist_skip14.npy\")\n",
    "print(len(dist), min(dist), max(dist))\n",
    "dist = dist - dist_0\n",
    "dist = dist[dist > -5]\n",
    "dist = dist[dist < 20]\n",
    "_ = plt.hist(dist, bins=100, density=True, alpha=.8, label='Free simulation')\n",
    "\n",
    "dist = np.load(\"../../../nsp10_16/dist_deep_skip14.npy\")\n",
    "print(len(dist), min(dist), max(dist))\n",
    "dist = dist - dist_0\n",
    "dist = dist[dist > -5]\n",
    "dist = dist[dist < 20]\n",
    "_ = plt.hist(dist, bins=100, density=True, alpha=.8, label='Stream-AI-MD')\n",
    "plt.xlim([-5, 20])\n",
    "plt.legend()"
   ]
  },
  {
   "cell_type": "code",
   "execution_count": 12,
   "metadata": {},
   "outputs": [
    {
     "name": "stdout",
     "output_type": "stream",
     "text": [
      "69550 18.010266211732034 69.05795279367808\n"
     ]
    },
    {
     "data": {
      "text/plain": [
       "(-5.0, 20.0)"
      ]
     },
     "execution_count": 12,
     "metadata": {},
     "output_type": "execute_result"
    },
    {
     "data": {
      "image/png": "[encoded data removed]",
      "text/plain": [
       "<Figure size 432x288 with 1 Axes>"
      ]
     },
     "metadata": {
      "needs_background": "light"
     },
     "output_type": "display_data"
    }
   ],
   "source": [
    "dist = np.load(\"../../../nsp10_16/dist_deep.npy\")\n",
    "print(len(dist), min(dist), max(dist))\n",
    "dist = dist - dist_0\n",
    "dist = dist[dist > -5]\n",
    "dist = dist[dist < 20]\n",
    "_ = plt.hist(dist, bins=100)\n",
    "plt.xlim([-5, 20])"
   ]
  },
  {
   "cell_type": "code",
   "execution_count": null,
   "metadata": {},
   "outputs": [],
   "source": [
    "_ = plt.hist(dist - min(dist), bins=100)"
   ]
  },
  {
   "cell_type": "code",
   "execution_count": null,
   "metadata": {},
   "outputs": [],
   "source": [
    "import MDAnalysis as mda "
   ]
  },
  {
   "cell_type": "code",
   "execution_count": null,
   "metadata": {},
   "outputs": [],
   "source": [
    "pdb_file = '../../../../covid19/Nsp10_Nsp16/md_runs/run_comp/no_sol.pdb' \n",
    "dcd_file = '../../../../covid19/Nsp10_Nsp16/md_runs/run_comp/no_sol.dcd' "
   ]
  },
  {
   "cell_type": "code",
   "execution_count": null,
   "metadata": {},
   "outputs": [],
   "source": [
    "mda_u = mda.Universe(pdb_file, dcd_file)"
   ]
  },
  {
   "cell_type": "code",
   "execution_count": null,
   "metadata": {},
   "outputs": [],
   "source": [
    "nsp16 = mda_u.segments[0].atoms\n",
    "nsp10 = mda_u.segments[1].atoms\n",
    "no_sol = mda_u.select_atoms(\"protein\")\n",
    "dist_list = []\n",
    "for ts in tqdm(mda_u.trajectory):\n",
    "    box_edge = ts.dimensions[0]\n",
    "    box_center = box_edge / 2\n",
    "    trans_vec = box_center - np.array(nsp16.center_of_mass())\n",
    "    no_sol.atoms.translate(trans_vec).wrap()\n",
    "    trans_vec = box_center - np.array(no_sol.center_of_mass())\n",
    "    no_sol.atoms.translate(trans_vec).wrap()\n",
    "    dist_vec = nsp10.center_of_mass() - nsp16.center_of_mass()\n",
    "    dist = LA.norm(dist_vec)\n",
    "\n",
    "    dist_list += [dist]"
   ]
  },
  {
   "cell_type": "code",
   "execution_count": null,
   "metadata": {},
   "outputs": [],
   "source": [
    "_ = plt.hist(dist_list - min(dist_list),b bins=100)"
   ]
  },
  {
   "cell_type": "code",
   "execution_count": null,
   "metadata": {},
   "outputs": [],
   "source": [
    "dist_list[0]"
   ]
  },
  {
   "cell_type": "code",
   "execution_count": null,
   "metadata": {},
   "outputs": [],
   "source": []
  }
 ],
 "metadata": {
  "kernelspec": {
   "display_name": "Python 3",
   "language": "python",
   "name": "python3"
  },
  "language_info": {
   "codemirror_mode": {
    "name": "ipython",
    "version": 3
   },
   "file_extension": ".py",
   "mimetype": "text/x-python",
   "name": "python",
   "nbconvert_exporter": "python",
   "pygments_lexer": "ipython3",
   "version": "3.6.10"
  }
 },
 "nbformat": 4,
 "nbformat_minor": 4
}
