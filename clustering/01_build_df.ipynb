{
 "cells": [
  {
   "cell_type": "code",
   "execution_count": 1,
   "id": "1de40b61",
   "metadata": {},
   "outputs": [],
   "source": [
    "import os\n",
    "import sys\n",
    "import glob\n",
    "\n",
    "import numpy as np\n",
    "import pandas as pd\n",
    "import matplotlib.pyplot as plt\n",
    "\n",
    "import MDAnalysis as mda\n",
    "from MDAnalysis.analysis import distances\n",
    "from MDAnalysis.analysis import rms\n",
    "from tqdm import tqdm\n",
    "from numpy import linalg as LA\n",
    "from scipy.signal import lfilter\n",
    "\n",
    "sys.path.append(\"../py_modules/\")\n",
    "\n",
    "from utils import sparse_to_full, triu_to_full"
   ]
  },
  {
   "cell_type": "code",
   "execution_count": 2,
   "id": "c0618c13",
   "metadata": {},
   "outputs": [],
   "source": [
    "def dist_pbc(a, b, box):\n",
    "    \"\"\"\n",
    "    calculate distance between two points\n",
    "    in PBC box\n",
    "    \"\"\"\n",
    "    assert len(a) == len(b)\n",
    "    box = box[:len(a)]\n",
    "    a = a % box\n",
    "    b = b % box\n",
    "    dist_vec = np.abs(a - b)\n",
    "    dist_vec = np.abs(dist_vec - box * (dist_vec > box/2))\n",
    "    return LA.norm(dist_vec)\n",
    "    print(dist_vec)"
   ]
  },
  {
   "cell_type": "code",
   "execution_count": 3,
   "id": "d37ebf5c",
   "metadata": {},
   "outputs": [],
   "source": [
    "runs = sorted(glob.glob(\"../../traj_save/nsp10_16_dist/*.pdb\"))\n",
    "\n",
    "comp = '../../traj_save/Nsp10_Nsp16/comp_0.pdb'\n",
    "runs = [comp] + runs\n",
    "ref_pdb = '../../md_setups_a99/input_comp_sam/comp_sam.pdb'"
   ]
  },
  {
   "cell_type": "code",
   "execution_count": 4,
   "id": "f3a0d1a1",
   "metadata": {
    "scrolled": true
   },
   "outputs": [
    {
     "name": "stderr",
     "output_type": "stream",
     "text": [
      "/homes/heng.ma/miniconda3/envs/MD_ff/lib/python3.8/site-packages/MDAnalysis/topology/PDBParser.py:334: UserWarning: Unknown element Z found for some atoms. These have been given an empty element record. If needed they can be guessed using MDAnalysis.topology.guessers.\n",
      "  warnings.warn(wmsg)\n",
      "/homes/heng.ma/miniconda3/envs/MD_ff/lib/python3.8/site-packages/MDAnalysis/topology/guessers.py:146: UserWarning: Failed to guess the mass for the following atom types: Z\n",
      "  warnings.warn(\"Failed to guess the mass for the following atom types: {}\".format(atom_type))\n"
     ]
    },
    {
     "name": "stdout",
     "output_type": "stream",
     "text": [
      "10000\n"
     ]
    },
    {
     "name": "stderr",
     "output_type": "stream",
     "text": [
      "100%|██████████████████████████████████████████████████████████████████████████████████████████████████████████████████████████████████████████████████████████████████████████████████████████████████| 4000/4000 [00:05<00:00, 742.66it/s]\n"
     ]
    },
    {
     "name": "stdout",
     "output_type": "stream",
     "text": [
      "4000\n"
     ]
    },
    {
     "name": "stderr",
     "output_type": "stream",
     "text": [
      "100%|██████████████████████████████████████████████████████████████████████████████████████████████████████████████████████████████████████████████████████████████████████████████████████████████████| 4000/4000 [00:05<00:00, 742.22it/s]\n"
     ]
    },
    {
     "name": "stdout",
     "output_type": "stream",
     "text": [
      "4000\n"
     ]
    },
    {
     "name": "stderr",
     "output_type": "stream",
     "text": [
      "100%|██████████████████████████████████████████████████████████████████████████████████████████████████████████████████████████████████████████████████████████████████████████████████████████████████| 4000/4000 [00:05<00:00, 738.89it/s]\n"
     ]
    },
    {
     "name": "stdout",
     "output_type": "stream",
     "text": [
      "4000\n"
     ]
    },
    {
     "name": "stderr",
     "output_type": "stream",
     "text": [
      "100%|██████████████████████████████████████████████████████████████████████████████████████████████████████████████████████████████████████████████████████████████████████████████████████████████████| 4000/4000 [00:05<00:00, 729.95it/s]\n"
     ]
    },
    {
     "name": "stdout",
     "output_type": "stream",
     "text": [
      "4000\n"
     ]
    },
    {
     "name": "stderr",
     "output_type": "stream",
     "text": [
      "100%|██████████████████████████████████████████████████████████████████████████████████████████████████████████████████████████████████████████████████████████████████████████████████████████████████| 4000/4000 [00:05<00:00, 738.30it/s]\n"
     ]
    },
    {
     "name": "stdout",
     "output_type": "stream",
     "text": [
      "4000\n"
     ]
    },
    {
     "name": "stderr",
     "output_type": "stream",
     "text": [
      "100%|██████████████████████████████████████████████████████████████████████████████████████████████████████████████████████████████████████████████████████████████████████████████████████████████████| 4000/4000 [00:05<00:00, 742.18it/s]\n"
     ]
    },
    {
     "name": "stdout",
     "output_type": "stream",
     "text": [
      "4000\n"
     ]
    },
    {
     "name": "stderr",
     "output_type": "stream",
     "text": [
      "100%|██████████████████████████████████████████████████████████████████████████████████████████████████████████████████████████████████████████████████████████████████████████████████████████████████| 4000/4000 [00:05<00:00, 738.05it/s]\n"
     ]
    },
    {
     "name": "stdout",
     "output_type": "stream",
     "text": [
      "4000\n"
     ]
    },
    {
     "name": "stderr",
     "output_type": "stream",
     "text": [
      "100%|██████████████████████████████████████████████████████████████████████████████████████████████████████████████████████████████████████████████████████████████████████████████████████████████████| 4000/4000 [00:05<00:00, 741.09it/s]\n"
     ]
    },
    {
     "name": "stdout",
     "output_type": "stream",
     "text": [
      "4000\n"
     ]
    },
    {
     "name": "stderr",
     "output_type": "stream",
     "text": [
      "100%|██████████████████████████████████████████████████████████████████████████████████████████████████████████████████████████████████████████████████████████████████████████████████████████████████| 4000/4000 [00:05<00:00, 736.32it/s]\n"
     ]
    },
    {
     "name": "stdout",
     "output_type": "stream",
     "text": [
      "4000\n"
     ]
    },
    {
     "name": "stderr",
     "output_type": "stream",
     "text": [
      "100%|██████████████████████████████████████████████████████████████████████████████████████████████████████████████████████████████████████████████████████████████████████████████████████████████████| 4000/4000 [00:05<00:00, 740.87it/s]\n"
     ]
    },
    {
     "name": "stdout",
     "output_type": "stream",
     "text": [
      "4000\n"
     ]
    },
    {
     "name": "stderr",
     "output_type": "stream",
     "text": [
      "100%|██████████████████████████████████████████████████████████████████████████████████████████████████████████████████████████████████████████████████████████████████████████████████████████████████| 4000/4000 [00:05<00:00, 736.37it/s]\n"
     ]
    },
    {
     "name": "stdout",
     "output_type": "stream",
     "text": [
      "4000\n"
     ]
    },
    {
     "name": "stderr",
     "output_type": "stream",
     "text": [
      "100%|██████████████████████████████████████████████████████████████████████████████████████████████████████████████████████████████████████████████████████████████████████████████████████████████████| 4000/4000 [00:05<00:00, 739.73it/s]\n"
     ]
    },
    {
     "name": "stdout",
     "output_type": "stream",
     "text": [
      "4000\n"
     ]
    },
    {
     "name": "stderr",
     "output_type": "stream",
     "text": [
      "100%|██████████████████████████████████████████████████████████████████████████████████████████████████████████████████████████████████████████████████████████████████████████████████████████████████| 4000/4000 [00:05<00:00, 737.28it/s]\n"
     ]
    },
    {
     "name": "stdout",
     "output_type": "stream",
     "text": [
      "4000\n"
     ]
    },
    {
     "name": "stderr",
     "output_type": "stream",
     "text": [
      "100%|██████████████████████████████████████████████████████████████████████████████████████████████████████████████████████████████████████████████████████████████████████████████████████████████████| 4000/4000 [00:05<00:00, 743.23it/s]\n"
     ]
    },
    {
     "name": "stdout",
     "output_type": "stream",
     "text": [
      "4000\n"
     ]
    },
    {
     "name": "stderr",
     "output_type": "stream",
     "text": [
      "100%|██████████████████████████████████████████████████████████████████████████████████████████████████████████████████████████████████████████████████████████████████████████████████████████████████| 4000/4000 [00:05<00:00, 739.73it/s]\n"
     ]
    },
    {
     "name": "stdout",
     "output_type": "stream",
     "text": [
      "4000\n"
     ]
    },
    {
     "name": "stderr",
     "output_type": "stream",
     "text": [
      "100%|██████████████████████████████████████████████████████████████████████████████████████████████████████████████████████████████████████████████████████████████████████████████████████████████████| 4000/4000 [00:05<00:00, 742.58it/s]\n"
     ]
    },
    {
     "name": "stdout",
     "output_type": "stream",
     "text": [
      "4000\n"
     ]
    },
    {
     "name": "stderr",
     "output_type": "stream",
     "text": [
      "100%|██████████████████████████████████████████████████████████████████████████████████████████████████████████████████████████████████████████████████████████████████████████████████████████████████| 4000/4000 [00:05<00:00, 743.14it/s]\n"
     ]
    },
    {
     "name": "stdout",
     "output_type": "stream",
     "text": [
      "4000\n"
     ]
    },
    {
     "name": "stderr",
     "output_type": "stream",
     "text": [
      "100%|██████████████████████████████████████████████████████████████████████████████████████████████████████████████████████████████████████████████████████████████████████████████████████████████████| 4000/4000 [00:05<00:00, 733.15it/s]\n"
     ]
    },
    {
     "name": "stdout",
     "output_type": "stream",
     "text": [
      "4000\n"
     ]
    },
    {
     "name": "stderr",
     "output_type": "stream",
     "text": [
      "100%|██████████████████████████████████████████████████████████████████████████████████████████████████████████████████████████████████████████████████████████████████████████████████████████████████| 4000/4000 [00:05<00:00, 734.92it/s]\n"
     ]
    },
    {
     "name": "stdout",
     "output_type": "stream",
     "text": [
      "4000\n"
     ]
    },
    {
     "name": "stderr",
     "output_type": "stream",
     "text": [
      "100%|██████████████████████████████████████████████████████████████████████████████████████████████████████████████████████████████████████████████████████████████████████████████████████████████████| 4000/4000 [00:05<00:00, 731.34it/s]\n"
     ]
    },
    {
     "name": "stdout",
     "output_type": "stream",
     "text": [
      "4000\n"
     ]
    },
    {
     "name": "stderr",
     "output_type": "stream",
     "text": [
      "100%|██████████████████████████████████████████████████████████████████████████████████████████████████████████████████████████████████████████████████████████████████████████████████████████████████| 4000/4000 [00:05<00:00, 738.88it/s]\n"
     ]
    }
   ],
   "source": [
    "df = []\n",
    "\n",
    "for run in runs[:]:\n",
    "    pdb_file = run\n",
    "    dcd_file = run.replace(\"pdb\", \"dcd\")\n",
    "    run_base = os.path.basename(run)[:-4]\n",
    "\n",
    "    mda_traj = mda.Universe(pdb_file, dcd_file)\n",
    "    print(len(mda_traj.trajectory))\n",
    "\n",
    "    nsp16 = mda_traj.segments[0].atoms\n",
    "    nsp10 = mda_traj.select_atoms(\"segid B\")\n",
    "    no_sol = mda_traj.select_atoms(\"protein\")\n",
    "    \n",
    "    nsp16_ca = nsp16.select_atoms('name CA') \n",
    "    nsp10_ca = nsp10.select_atoms('name CA')\n",
    "    protein_ca = mda_traj.select_atoms('protein and name CA')\n",
    "    \n",
    "    ref_traj = mda.Universe(ref_pdb)\n",
    "    ref_nsp16 = ref_traj.segments[0].atoms\n",
    "    ref_nsp10 = ref_traj.select_atoms(\"segid B\")\n",
    "    ref_nsp16_ca = ref_nsp16.select_atoms('name CA') \n",
    "    ref_nsp10_ca = ref_nsp10.select_atoms('name CA')\n",
    "    ref_protein_ca = ref_traj.select_atoms('protein and name CA')\n",
    "    \n",
    "    for ts in tqdm(mda_traj.trajectory[:4000]):\n",
    "        cm  = (distances.distance_array(\n",
    "            nsp10_ca.positions, nsp16_ca.positions, \n",
    "            box = ts.dimensions) < 10.0) * 1\n",
    "        dist = dist_pbc(\n",
    "            nsp10.center_of_mass(), \n",
    "            nsp16.center_of_mass(), \n",
    "            ts.dimensions,\n",
    "        )\n",
    "        rmsd = rms.rmsd(\n",
    "            protein_ca.positions, ref_protein_ca.positions, \n",
    "            superposition=True,\n",
    "        )\n",
    "        rmsd_nsp10 = rms.rmsd(\n",
    "            nsp10_ca.positions, ref_nsp10_ca.positions, \n",
    "            superposition=True,\n",
    "        )\n",
    "        rmsd_nsp16 = rms.rmsd(\n",
    "            nsp16_ca.positions, ref_nsp16_ca.positions, \n",
    "            superposition=True,\n",
    "        )\n",
    "        \n",
    "        df.append({'sys_name': run_base,\n",
    "                    'frame': ts.frame,\n",
    "                   'n_res': protein_ca.n_atoms, \n",
    "                   'dist': dist,\n",
    "                   'n_contacts': np.sum(cm==1),\n",
    "                   'rmsd': rmsd, \n",
    "                   'rmsd_nsp10': rmsd_nsp10, \n",
    "                   'rmsd_nsp16': rmsd_nsp16\n",
    "                   \n",
    "    #                    'dist_vec': dist_vec,\n",
    "#                    'contact_maps': cm\n",
    "                  })"
   ]
  },
  {
   "cell_type": "code",
   "execution_count": 5,
   "id": "e7db2e5c",
   "metadata": {},
   "outputs": [
    {
     "data": {
      "text/html": [
       "<div>\n",
       "<style scoped>\n",
       "    .dataframe tbody tr th:only-of-type {\n",
       "        vertical-align: middle;\n",
       "    }\n",
       "\n",
       "    .dataframe tbody tr th {\n",
       "        vertical-align: top;\n",
       "    }\n",
       "\n",
       "    .dataframe thead th {\n",
       "        text-align: right;\n",
       "    }\n",
       "</style>\n",
       "<table border=\"1\" class=\"dataframe\">\n",
       "  <thead>\n",
       "    <tr style=\"text-align: right;\">\n",
       "      <th></th>\n",
       "      <th>sys_name</th>\n",
       "      <th>frame</th>\n",
       "      <th>n_res</th>\n",
       "      <th>dist</th>\n",
       "      <th>n_contacts</th>\n",
       "      <th>rmsd</th>\n",
       "      <th>rmsd_nsp10</th>\n",
       "      <th>rmsd_nsp16</th>\n",
       "    </tr>\n",
       "  </thead>\n",
       "  <tbody>\n",
       "    <tr>\n",
       "      <th>0</th>\n",
       "      <td>comp_0</td>\n",
       "      <td>0</td>\n",
       "      <td>415</td>\n",
       "      <td>32.605477</td>\n",
       "      <td>143</td>\n",
       "      <td>1.270958</td>\n",
       "      <td>1.157980</td>\n",
       "      <td>1.061589</td>\n",
       "    </tr>\n",
       "    <tr>\n",
       "      <th>1</th>\n",
       "      <td>comp_0</td>\n",
       "      <td>1</td>\n",
       "      <td>415</td>\n",
       "      <td>32.323373</td>\n",
       "      <td>144</td>\n",
       "      <td>1.266247</td>\n",
       "      <td>1.135788</td>\n",
       "      <td>1.180746</td>\n",
       "    </tr>\n",
       "    <tr>\n",
       "      <th>2</th>\n",
       "      <td>comp_0</td>\n",
       "      <td>2</td>\n",
       "      <td>415</td>\n",
       "      <td>31.932924</td>\n",
       "      <td>156</td>\n",
       "      <td>1.251338</td>\n",
       "      <td>1.298619</td>\n",
       "      <td>1.130007</td>\n",
       "    </tr>\n",
       "    <tr>\n",
       "      <th>3</th>\n",
       "      <td>comp_0</td>\n",
       "      <td>3</td>\n",
       "      <td>415</td>\n",
       "      <td>32.521470</td>\n",
       "      <td>149</td>\n",
       "      <td>1.232570</td>\n",
       "      <td>1.067588</td>\n",
       "      <td>1.155031</td>\n",
       "    </tr>\n",
       "    <tr>\n",
       "      <th>4</th>\n",
       "      <td>comp_0</td>\n",
       "      <td>4</td>\n",
       "      <td>415</td>\n",
       "      <td>32.193099</td>\n",
       "      <td>157</td>\n",
       "      <td>1.497461</td>\n",
       "      <td>1.652155</td>\n",
       "      <td>1.348938</td>\n",
       "    </tr>\n",
       "    <tr>\n",
       "      <th>...</th>\n",
       "      <td>...</td>\n",
       "      <td>...</td>\n",
       "      <td>...</td>\n",
       "      <td>...</td>\n",
       "      <td>...</td>\n",
       "      <td>...</td>\n",
       "      <td>...</td>\n",
       "      <td>...</td>\n",
       "    </tr>\n",
       "    <tr>\n",
       "      <th>83995</th>\n",
       "      <td>comp_100</td>\n",
       "      <td>3995</td>\n",
       "      <td>415</td>\n",
       "      <td>39.647390</td>\n",
       "      <td>107</td>\n",
       "      <td>10.644501</td>\n",
       "      <td>5.009146</td>\n",
       "      <td>2.698992</td>\n",
       "    </tr>\n",
       "    <tr>\n",
       "      <th>83996</th>\n",
       "      <td>comp_100</td>\n",
       "      <td>3996</td>\n",
       "      <td>415</td>\n",
       "      <td>39.943104</td>\n",
       "      <td>114</td>\n",
       "      <td>10.607467</td>\n",
       "      <td>4.521076</td>\n",
       "      <td>2.744293</td>\n",
       "    </tr>\n",
       "    <tr>\n",
       "      <th>83997</th>\n",
       "      <td>comp_100</td>\n",
       "      <td>3997</td>\n",
       "      <td>415</td>\n",
       "      <td>39.952250</td>\n",
       "      <td>113</td>\n",
       "      <td>10.840326</td>\n",
       "      <td>4.824111</td>\n",
       "      <td>2.710605</td>\n",
       "    </tr>\n",
       "    <tr>\n",
       "      <th>83998</th>\n",
       "      <td>comp_100</td>\n",
       "      <td>3998</td>\n",
       "      <td>415</td>\n",
       "      <td>40.436388</td>\n",
       "      <td>108</td>\n",
       "      <td>10.780112</td>\n",
       "      <td>4.630009</td>\n",
       "      <td>2.768572</td>\n",
       "    </tr>\n",
       "    <tr>\n",
       "      <th>83999</th>\n",
       "      <td>comp_100</td>\n",
       "      <td>3999</td>\n",
       "      <td>415</td>\n",
       "      <td>39.139867</td>\n",
       "      <td>120</td>\n",
       "      <td>10.652837</td>\n",
       "      <td>4.808910</td>\n",
       "      <td>2.868096</td>\n",
       "    </tr>\n",
       "  </tbody>\n",
       "</table>\n",
       "<p>84000 rows × 8 columns</p>\n",
       "</div>"
      ],
      "text/plain": [
       "       sys_name  frame  n_res       dist  n_contacts       rmsd  rmsd_nsp10  \\\n",
       "0        comp_0      0    415  32.605477         143   1.270958    1.157980   \n",
       "1        comp_0      1    415  32.323373         144   1.266247    1.135788   \n",
       "2        comp_0      2    415  31.932924         156   1.251338    1.298619   \n",
       "3        comp_0      3    415  32.521470         149   1.232570    1.067588   \n",
       "4        comp_0      4    415  32.193099         157   1.497461    1.652155   \n",
       "...         ...    ...    ...        ...         ...        ...         ...   \n",
       "83995  comp_100   3995    415  39.647390         107  10.644501    5.009146   \n",
       "83996  comp_100   3996    415  39.943104         114  10.607467    4.521076   \n",
       "83997  comp_100   3997    415  39.952250         113  10.840326    4.824111   \n",
       "83998  comp_100   3998    415  40.436388         108  10.780112    4.630009   \n",
       "83999  comp_100   3999    415  39.139867         120  10.652837    4.808910   \n",
       "\n",
       "       rmsd_nsp16  \n",
       "0        1.061589  \n",
       "1        1.180746  \n",
       "2        1.130007  \n",
       "3        1.155031  \n",
       "4        1.348938  \n",
       "...           ...  \n",
       "83995    2.698992  \n",
       "83996    2.744293  \n",
       "83997    2.710605  \n",
       "83998    2.768572  \n",
       "83999    2.868096  \n",
       "\n",
       "[84000 rows x 8 columns]"
      ]
     },
     "execution_count": 5,
     "metadata": {},
     "output_type": "execute_result"
    }
   ],
   "source": [
    "df = pd.DataFrame(df)\n",
    "df"
   ]
  },
  {
   "cell_type": "code",
   "execution_count": 6,
   "id": "15a2567e",
   "metadata": {},
   "outputs": [],
   "source": [
    "df.to_pickle(\"df_comp.pkl\")"
   ]
  },
  {
   "cell_type": "code",
   "execution_count": null,
   "id": "5a5397f3",
   "metadata": {},
   "outputs": [],
   "source": []
  }
 ],
 "metadata": {
  "kernelspec": {
   "display_name": "Python 3 (ipykernel)",
   "language": "python",
   "name": "python3"
  },
  "language_info": {
   "codemirror_mode": {
    "name": "ipython",
    "version": 3
   },
   "file_extension": ".py",
   "mimetype": "text/x-python",
   "name": "python",
   "nbconvert_exporter": "python",
   "pygments_lexer": "ipython3",
   "version": "3.8.10"
  }
 },
 "nbformat": 4,
 "nbformat_minor": 5
}
